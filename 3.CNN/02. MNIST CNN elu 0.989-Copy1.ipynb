{
 "cells": [
  {
   "cell_type": "markdown",
   "metadata": {},
   "source": [
    "# 이미지 인식 - CNN"
   ]
  },
  {
   "cell_type": "markdown",
   "metadata": {},
   "source": [
    "## MNIST 사례"
   ]
  },
  {
   "cell_type": "code",
   "execution_count": 1,
   "metadata": {},
   "outputs": [],
   "source": [
    "import numpy as np\n",
    "import tensorflow as tf\n",
    "from tensorflow import keras\n",
    "from tensorflow.keras.datasets import mnist\n",
    "from tensorflow.keras.models import Sequential\n",
    "from tensorflow.keras.layers import Dense, Dropout, Flatten, Conv2D, MaxPooling2D\n",
    "from tensorflow.keras.callbacks import ModelCheckpoint, EarlyStopping\n",
    "\n",
    "import os\n",
    "import matplotlib.pyplot as plt\n",
    "%matplotlib inline"
   ]
  },
  {
   "cell_type": "code",
   "execution_count": 2,
   "metadata": {},
   "outputs": [],
   "source": [
    "# seed 값 설정\n",
    "seed = 0\n",
    "np.random.seed(seed)\n",
    "tf.random.set_seed(seed)"
   ]
  },
  {
   "cell_type": "code",
   "execution_count": 3,
   "metadata": {},
   "outputs": [],
   "source": [
    "# 데이터 불러오기\n",
    "(X_train, Y_train), (X_test, Y_test) = mnist.load_data()\n",
    "X_train = X_train.reshape(X_train.shape[0], 28, 28, 1).astype('float32')/255\n",
    "X_test = X_test.reshape(X_test.shape[0], 28, 28, 1).astype('float32')/255\n",
    "Y_train = tf.keras.utils.to_categorical(Y_train)\n",
    "Y_test = tf.keras.utils.to_categorical(Y_test)"
   ]
  },
  {
   "cell_type": "code",
   "execution_count": 4,
   "metadata": {},
   "outputs": [
    {
     "name": "stdout",
     "output_type": "stream",
     "text": [
      "Model: \"sequential\"\n",
      "_________________________________________________________________\n",
      "Layer (type)                 Output Shape              Param #   \n",
      "=================================================================\n",
      "conv2d (Conv2D)              (None, 27, 27, 32)        160       \n",
      "_________________________________________________________________\n",
      "conv2d_1 (Conv2D)            (None, 25, 25, 64)        18496     \n",
      "_________________________________________________________________\n",
      "max_pooling2d (MaxPooling2D) (None, 12, 12, 64)        0         \n",
      "_________________________________________________________________\n",
      "dropout (Dropout)            (None, 12, 12, 64)        0         \n",
      "_________________________________________________________________\n",
      "flatten (Flatten)            (None, 9216)              0         \n",
      "_________________________________________________________________\n",
      "dense (Dense)                (None, 600)               5530200   \n",
      "_________________________________________________________________\n",
      "dropout_1 (Dropout)          (None, 600)               0         \n",
      "_________________________________________________________________\n",
      "dense_1 (Dense)              (None, 10)                6010      \n",
      "=================================================================\n",
      "Total params: 5,554,866\n",
      "Trainable params: 5,554,866\n",
      "Non-trainable params: 0\n",
      "_________________________________________________________________\n"
     ]
    }
   ],
   "source": [
    "# 컨볼루션 신경망 설정\n",
    "# Conv2D(32 마스크의 갯수 kernel_size 마스크의 크기\n",
    "#input_shape=(28,28,1) 행,열 컬러(3) 또는 흑백(1)\n",
    "model = Sequential([\n",
    "    Conv2D(32, kernel_size=(2,2), input_shape=(28,28,1), activation='relu'),\n",
    "    Conv2D(64, (3, 3), activation='elu'),\n",
    "    MaxPooling2D(pool_size=2),\n",
    "    Dropout(0.25),\n",
    "    Flatten(),\n",
    "    Dense(600, activation='elu'),\n",
    "    Dropout(0.5),\n",
    "    Dense(10, activation='softmax')\n",
    "])\n",
    "model.summary()"
   ]
  },
  {
   "cell_type": "code",
   "execution_count": 5,
   "metadata": {},
   "outputs": [],
   "source": [
    "model.compile(loss='categorical_crossentropy',\n",
    "              optimizer='adam',\n",
    "              metrics=['accuracy'])"
   ]
  },
  {
   "cell_type": "code",
   "execution_count": 6,
   "metadata": {},
   "outputs": [],
   "source": [
    "# 모델 최적화 설정\n",
    "MODEL_DIR = './model/'\n",
    "if not os.path.exists(MODEL_DIR):\n",
    "    os.mkdir(MEDEL_DIR)"
   ]
  },
  {
   "cell_type": "code",
   "execution_count": 7,
   "metadata": {},
   "outputs": [],
   "source": [
    "modelpath = MODEL_DIR + \"mnist-cnn-{epoch:02d}-{val_loss:.4f}.hdf5\"\n",
    "checkpointer = ModelCheckpoint(filepath=modelpath, monitor='val_loss', \n",
    "                               verbose=1, save_best_only=True)\n",
    "early_stopping_callback = EarlyStopping(monitor='val_loss', patience=10)"
   ]
  },
  {
   "cell_type": "code",
   "execution_count": 8,
   "metadata": {
    "scrolled": true
   },
   "outputs": [
    {
     "name": "stdout",
     "output_type": "stream",
     "text": [
      "Train on 60000 samples, validate on 10000 samples\n",
      "Epoch 1/30\n",
      "59800/60000 [============================>.] - ETA: 0s - loss: 0.1913 - accuracy: 0.9418\n",
      "Epoch 00001: val_loss improved from inf to 0.08116, saving model to ./model/mnist-cnn-01-0.0812.hdf5\n",
      "60000/60000 [==============================] - 52s 860us/sample - loss: 0.1913 - accuracy: 0.9418 - val_loss: 0.0812 - val_accuracy: 0.9736\n",
      "Epoch 2/30\n",
      "59800/60000 [============================>.] - ETA: 0s - loss: 0.0717 - accuracy: 0.9775\n",
      "Epoch 00002: val_loss improved from 0.08116 to 0.04925, saving model to ./model/mnist-cnn-02-0.0493.hdf5\n",
      "60000/60000 [==============================] - 51s 850us/sample - loss: 0.0717 - accuracy: 0.9776 - val_loss: 0.0493 - val_accuracy: 0.9831\n",
      "Epoch 3/30\n",
      "59800/60000 [============================>.] - ETA: 0s - loss: 0.0534 - accuracy: 0.9832\n",
      "Epoch 00003: val_loss did not improve from 0.04925\n",
      "60000/60000 [==============================] - 52s 859us/sample - loss: 0.0534 - accuracy: 0.9832 - val_loss: 0.0573 - val_accuracy: 0.9814\n",
      "Epoch 4/30\n",
      "59800/60000 [============================>.] - ETA: 0s - loss: 0.0440 - accuracy: 0.9858\n",
      "Epoch 00004: val_loss improved from 0.04925 to 0.04586, saving model to ./model/mnist-cnn-04-0.0459.hdf5\n",
      "60000/60000 [==============================] - 52s 865us/sample - loss: 0.0439 - accuracy: 0.9858 - val_loss: 0.0459 - val_accuracy: 0.9867\n",
      "Epoch 5/30\n",
      "59800/60000 [============================>.] - ETA: 0s - loss: 0.0380 - accuracy: 0.9878\n",
      "Epoch 00005: val_loss improved from 0.04586 to 0.04293, saving model to ./model/mnist-cnn-05-0.0429.hdf5\n",
      "60000/60000 [==============================] - 52s 866us/sample - loss: 0.0379 - accuracy: 0.9879 - val_loss: 0.0429 - val_accuracy: 0.9870\n",
      "Epoch 6/30\n",
      "59800/60000 [============================>.] - ETA: 0s - loss: 0.0315 - accuracy: 0.9896\n",
      "Epoch 00006: val_loss improved from 0.04293 to 0.03706, saving model to ./model/mnist-cnn-06-0.0371.hdf5\n",
      "60000/60000 [==============================] - 52s 863us/sample - loss: 0.0315 - accuracy: 0.9896 - val_loss: 0.0371 - val_accuracy: 0.9890\n",
      "Epoch 7/30\n",
      "59800/60000 [============================>.] - ETA: 0s - loss: 0.0284 - accuracy: 0.9908\n",
      "Epoch 00007: val_loss did not improve from 0.03706\n",
      "60000/60000 [==============================] - 52s 862us/sample - loss: 0.0283 - accuracy: 0.9909 - val_loss: 0.0412 - val_accuracy: 0.9877\n",
      "Epoch 8/30\n",
      "59800/60000 [============================>.] - ETA: 0s - loss: 0.0233 - accuracy: 0.9923\n",
      "Epoch 00008: val_loss did not improve from 0.03706\n",
      "60000/60000 [==============================] - 51s 850us/sample - loss: 0.0234 - accuracy: 0.9923 - val_loss: 0.0454 - val_accuracy: 0.9874\n",
      "Epoch 9/30\n",
      "59800/60000 [============================>.] - ETA: 0s - loss: 0.0207 - accuracy: 0.9929\n",
      "Epoch 00009: val_loss did not improve from 0.03706\n",
      "60000/60000 [==============================] - 51s 849us/sample - loss: 0.0207 - accuracy: 0.9929 - val_loss: 0.0409 - val_accuracy: 0.9883\n",
      "Epoch 10/30\n",
      "59800/60000 [============================>.] - ETA: 0s - loss: 0.0199 - accuracy: 0.9934\n",
      "Epoch 00010: val_loss did not improve from 0.03706\n",
      "60000/60000 [==============================] - 51s 850us/sample - loss: 0.0200 - accuracy: 0.9934 - val_loss: 0.0537 - val_accuracy: 0.9861\n",
      "Epoch 11/30\n",
      "59800/60000 [============================>.] - ETA: 0s - loss: 0.0163 - accuracy: 0.9947\n",
      "Epoch 00011: val_loss did not improve from 0.03706\n",
      "60000/60000 [==============================] - 51s 848us/sample - loss: 0.0163 - accuracy: 0.9947 - val_loss: 0.0508 - val_accuracy: 0.9871\n",
      "Epoch 12/30\n",
      "59800/60000 [============================>.] - ETA: 0s - loss: 0.0168 - accuracy: 0.9947\n",
      "Epoch 00012: val_loss did not improve from 0.03706\n",
      "60000/60000 [==============================] - 51s 849us/sample - loss: 0.0168 - accuracy: 0.9947 - val_loss: 0.0477 - val_accuracy: 0.9888\n",
      "Epoch 13/30\n",
      "59800/60000 [============================>.] - ETA: 0s - loss: 0.0132 - accuracy: 0.9957\n",
      "Epoch 00013: val_loss did not improve from 0.03706\n",
      "60000/60000 [==============================] - 51s 845us/sample - loss: 0.0132 - accuracy: 0.9957 - val_loss: 0.0500 - val_accuracy: 0.9885\n",
      "Epoch 14/30\n",
      "59800/60000 [============================>.] - ETA: 0s - loss: 0.0132 - accuracy: 0.9957\n",
      "Epoch 00014: val_loss did not improve from 0.03706\n",
      "60000/60000 [==============================] - 51s 847us/sample - loss: 0.0132 - accuracy: 0.9957 - val_loss: 0.0437 - val_accuracy: 0.9894\n",
      "Epoch 15/30\n",
      "59800/60000 [============================>.] - ETA: 0s - loss: 0.0127 - accuracy: 0.9954\n",
      "Epoch 00015: val_loss did not improve from 0.03706\n",
      "60000/60000 [==============================] - 51s 847us/sample - loss: 0.0127 - accuracy: 0.9954 - val_loss: 0.0601 - val_accuracy: 0.9883\n",
      "Epoch 16/30\n",
      "59800/60000 [============================>.] - ETA: 0s - loss: 0.0118 - accuracy: 0.9960\n",
      "Epoch 00016: val_loss did not improve from 0.03706\n",
      "60000/60000 [==============================] - 53s 879us/sample - loss: 0.0118 - accuracy: 0.9960 - val_loss: 0.0547 - val_accuracy: 0.9881\n"
     ]
    }
   ],
   "source": [
    "# 모델의 실행\n",
    "history = model.fit(X_train, Y_train, validation_data=(X_test, Y_test), epochs=30,\n",
    "                    batch_size=200, #epochs=5, verbose=2, \n",
    "                    callbacks=[early_stopping_callback, checkpointer])"
   ]
  },
  {
   "cell_type": "code",
   "execution_count": 14,
   "metadata": {},
   "outputs": [],
   "source": [
    "del model"
   ]
  },
  {
   "cell_type": "code",
   "execution_count": 15,
   "metadata": {},
   "outputs": [],
   "source": [
    "from tensorflow.keras.models import load_model\n",
    "model = load_model('model/mnist-cnn-06-0.0371.hdf5')"
   ]
  },
  {
   "cell_type": "code",
   "execution_count": 16,
   "metadata": {},
   "outputs": [
    {
     "data": {
      "text/plain": [
       "0.989"
      ]
     },
     "execution_count": 16,
     "metadata": {},
     "output_type": "execute_result"
    }
   ],
   "source": [
    "# 베스트 모델의 결과 출력 \n",
    "model.evaluate(X_test, Y_test, verbose=0)[1]"
   ]
  },
  {
   "cell_type": "code",
   "execution_count": 12,
   "metadata": {},
   "outputs": [],
   "source": [
    "# 테스트셋의 오차\n",
    "y_vloss = history.history['val_loss']\n",
    "\n",
    "# 학습셋의 오차\n",
    "y_loss = history.history['loss']"
   ]
  },
  {
   "cell_type": "code",
   "execution_count": 13,
   "metadata": {},
   "outputs": [
    {
     "data": {
      "image/png": "[encoded data removed]",
      "text/plain": [
       "<Figure size 576x432 with 1 Axes>"
      ]
     },
     "metadata": {
      "needs_background": "light"
     },
     "output_type": "display_data"
    }
   ],
   "source": [
    "# 그래프로 표현\n",
    "x_len = np.arange(1, len(y_loss)+1)\n",
    "plt.figure(figsize=(8,6))\n",
    "plt.plot(x_len, y_vloss, marker='.', c=\"red\", label='Testset_loss')\n",
    "plt.plot(x_len, y_loss, marker='.', c=\"blue\", label='Trainset_loss')\n",
    "\n",
    "# 그래프에 그리드를 주고 레이블을 표시\n",
    "plt.legend(loc='upper right')\n",
    "# plt.axis([0, 20, 0, 0.35])\n",
    "plt.grid()\n",
    "plt.xlabel('epoch')\n",
    "plt.ylabel('loss')\n",
    "plt.show()"
   ]
  },
  {
   "cell_type": "code",
   "execution_count": null,
   "metadata": {},
   "outputs": [],
   "source": []
  },
  {
   "cell_type": "code",
   "execution_count": null,
   "metadata": {},
   "outputs": [],
   "source": []
  }
 ],
 "metadata": {
  "kernelspec": {
   "display_name": "Python 3",
   "language": "python",
   "name": "python3"
  },
  "language_info": {
   "codemirror_mode": {
    "name": "ipython",
    "version": 3
   },
   "file_extension": ".py",
   "mimetype": "text/x-python",
   "name": "python",
   "nbconvert_exporter": "python",
   "pygments_lexer": "ipython3",
   "version": "3.7.7"
  }
 },
 "nbformat": 4,
 "nbformat_minor": 4
}
