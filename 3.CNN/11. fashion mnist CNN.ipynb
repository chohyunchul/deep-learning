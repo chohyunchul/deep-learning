{
 "cells": [
  {
   "cell_type": "markdown",
   "metadata": {},
   "source": [
    "# Fashion-MNIST"
   ]
  },
  {
   "cell_type": "code",
   "execution_count": 1,
   "metadata": {},
   "outputs": [
    {
     "name": "stdout",
     "output_type": "stream",
     "text": [
      "2.1.0\n"
     ]
    }
   ],
   "source": [
    "from __future__ import absolute_import, division, print_function, unicode_literals, unicode_literals\n",
    "# tensorflow와 tf.keras를 임포트합니다\n",
    "import tensorflow as tf\n",
    "from tensorflow import keras\n",
    "\n",
    "# 헬퍼(helper) 라이브러리를 임포트합니다\n",
    "import numpy as np\n",
    "import matplotlib.pyplot as plt\n",
    "from tensorflow.keras.models import Sequential\n",
    "\n",
    "print(tf.__version__)"
   ]
  },
  {
   "cell_type": "code",
   "execution_count": 2,
   "metadata": {},
   "outputs": [],
   "source": [
    "# seed 값 설정\n",
    "seed = 0\n",
    "np.random.seed(seed)\n",
    "tf.random.set_seed(seed)"
   ]
  },
  {
   "cell_type": "code",
   "execution_count": 3,
   "metadata": {},
   "outputs": [],
   "source": [
    "fashion_mnist = keras.datasets.fashion_mnist\n",
    "(X_train, Y_train), (X_test, Y_test) = fashion_mnist.load_data()"
   ]
  },
  {
   "cell_type": "code",
   "execution_count": 12,
   "metadata": {},
   "outputs": [
    {
     "data": {
      "text/plain": [
       "((60000, 28, 28, 1), (10000, 28, 28, 1))"
      ]
     },
     "execution_count": 12,
     "metadata": {},
     "output_type": "execute_result"
    }
   ],
   "source": [
    "X_train.shape, X_test.shape"
   ]
  },
  {
   "cell_type": "code",
   "execution_count": 5,
   "metadata": {},
   "outputs": [],
   "source": [
    "(X_train, Y_train), (X_test, Y_test) = fashion_mnist.load_data()\n",
    "X_train = X_train.reshape(X_train.shape[0], 28, 28, 1).astype('float32')/255\n",
    "X_test = X_test.reshape(X_test.shape[0], 28, 28, 1).astype('float32')/255\n",
    "Y_train = tf.keras.utils.to_categorical(Y_train)\n",
    "Y_test = tf.keras.utils.to_categorical(Y_test)"
   ]
  },
  {
   "cell_type": "code",
   "execution_count": 6,
   "metadata": {},
   "outputs": [
    {
     "name": "stdout",
     "output_type": "stream",
     "text": [
      "Model: \"sequential\"\n",
      "_________________________________________________________________\n",
      "Layer (type)                 Output Shape              Param #   \n",
      "=================================================================\n",
      "conv2d (Conv2D)              (None, 26, 26, 32)        320       \n",
      "_________________________________________________________________\n",
      "conv2d_1 (Conv2D)            (None, 24, 24, 64)        18496     \n",
      "_________________________________________________________________\n",
      "max_pooling2d (MaxPooling2D) (None, 12, 12, 64)        0         \n",
      "_________________________________________________________________\n",
      "dropout (Dropout)            (None, 12, 12, 64)        0         \n",
      "_________________________________________________________________\n",
      "flatten (Flatten)            (None, 9216)              0         \n",
      "_________________________________________________________________\n",
      "dense (Dense)                (None, 128)               1179776   \n",
      "_________________________________________________________________\n",
      "dropout_1 (Dropout)          (None, 128)               0         \n",
      "_________________________________________________________________\n",
      "dense_1 (Dense)              (None, 10)                1290      \n",
      "=================================================================\n",
      "Total params: 1,199,882\n",
      "Trainable params: 1,199,882\n",
      "Non-trainable params: 0\n",
      "_________________________________________________________________\n"
     ]
    }
   ],
   "source": [
    "from tensorflow.keras.layers import Dense, Dropout, Flatten, Conv2D, MaxPooling2D\n",
    "model = Sequential([\n",
    "    Conv2D(32, kernel_size=(3,3), input_shape=(28,28,1), activation='relu'),\n",
    "    Conv2D(64, (3, 3), activation='relu'),\n",
    "    MaxPooling2D(pool_size=2),\n",
    "    Dropout(0.25),\n",
    "    Flatten(),\n",
    "    Dense(128, activation='relu'),\n",
    "    Dropout(0.5),\n",
    "    Dense(10, activation='softmax')\n",
    "])\n",
    "model.summary()"
   ]
  },
  {
   "cell_type": "code",
   "execution_count": 7,
   "metadata": {},
   "outputs": [],
   "source": [
    "model.compile(loss='categorical_crossentropy',\n",
    "              optimizer='adam',\n",
    "              metrics=['accuracy'])"
   ]
  },
  {
   "cell_type": "code",
   "execution_count": 9,
   "metadata": {},
   "outputs": [],
   "source": [
    "from tensorflow.keras.callbacks import ModelCheckpoint, EarlyStopping\n",
    "early_stopping_callback = EarlyStopping(monitor='val_loss', patience=10)"
   ]
  },
  {
   "cell_type": "code",
   "execution_count": 10,
   "metadata": {
    "scrolled": true
   },
   "outputs": [
    {
     "name": "stdout",
     "output_type": "stream",
     "text": [
      "Train on 60000 samples, validate on 10000 samples\n",
      "Epoch 1/30\n",
      "60000/60000 [==============================] - 41s 683us/sample - loss: 0.5478 - accuracy: 0.8069 - val_loss: 0.3423 - val_accuracy: 0.8768\n",
      "Epoch 2/30\n",
      "60000/60000 [==============================] - 40s 668us/sample - loss: 0.3487 - accuracy: 0.8770 - val_loss: 0.3049 - val_accuracy: 0.8891\n",
      "Epoch 3/30\n",
      "60000/60000 [==============================] - 40s 668us/sample - loss: 0.3019 - accuracy: 0.8931 - val_loss: 0.2681 - val_accuracy: 0.9040\n",
      "Epoch 4/30\n",
      "60000/60000 [==============================] - 40s 661us/sample - loss: 0.2703 - accuracy: 0.9016 - val_loss: 0.2502 - val_accuracy: 0.9070\n",
      "Epoch 5/30\n",
      "60000/60000 [==============================] - 46s 767us/sample - loss: 0.2478 - accuracy: 0.9101 - val_loss: 0.2377 - val_accuracy: 0.9123\n",
      "Epoch 6/30\n",
      "60000/60000 [==============================] - 74s 1ms/sample - loss: 0.2301 - accuracy: 0.9177 - val_loss: 0.2311 - val_accuracy: 0.9154\n",
      "Epoch 7/30\n",
      "60000/60000 [==============================] - 74s 1ms/sample - loss: 0.2138 - accuracy: 0.9220 - val_loss: 0.2228 - val_accuracy: 0.9207\n",
      "Epoch 8/30\n",
      "60000/60000 [==============================] - 75s 1ms/sample - loss: 0.1964 - accuracy: 0.9284 - val_loss: 0.2223 - val_accuracy: 0.9214\n",
      "Epoch 9/30\n",
      "60000/60000 [==============================] - 75s 1ms/sample - loss: 0.1863 - accuracy: 0.9313 - val_loss: 0.2143 - val_accuracy: 0.9242\n",
      "Epoch 10/30\n",
      "60000/60000 [==============================] - 75s 1ms/sample - loss: 0.1752 - accuracy: 0.9347 - val_loss: 0.2264 - val_accuracy: 0.9195\n",
      "Epoch 11/30\n",
      "60000/60000 [==============================] - 75s 1ms/sample - loss: 0.1618 - accuracy: 0.9395 - val_loss: 0.2235 - val_accuracy: 0.9209\n",
      "Epoch 12/30\n",
      "60000/60000 [==============================] - 69s 1ms/sample - loss: 0.1538 - accuracy: 0.9417 - val_loss: 0.2122 - val_accuracy: 0.9303\n",
      "Epoch 13/30\n",
      "60000/60000 [==============================] - 40s 670us/sample - loss: 0.1479 - accuracy: 0.9437 - val_loss: 0.2079 - val_accuracy: 0.9290\n",
      "Epoch 14/30\n",
      "60000/60000 [==============================] - 41s 685us/sample - loss: 0.1361 - accuracy: 0.9491 - val_loss: 0.2166 - val_accuracy: 0.9281\n",
      "Epoch 15/30\n",
      "60000/60000 [==============================] - 41s 685us/sample - loss: 0.1291 - accuracy: 0.9503 - val_loss: 0.2096 - val_accuracy: 0.9313\n",
      "Epoch 16/30\n",
      "60000/60000 [==============================] - 42s 705us/sample - loss: 0.1228 - accuracy: 0.9532 - val_loss: 0.2126 - val_accuracy: 0.9329\n",
      "Epoch 17/30\n",
      "60000/60000 [==============================] - 43s 715us/sample - loss: 0.1178 - accuracy: 0.9558 - val_loss: 0.2236 - val_accuracy: 0.9300\n",
      "Epoch 18/30\n",
      "60000/60000 [==============================] - 40s 667us/sample - loss: 0.1126 - accuracy: 0.9574 - val_loss: 0.2225 - val_accuracy: 0.9312\n",
      "Epoch 19/30\n",
      "60000/60000 [==============================] - 40s 667us/sample - loss: 0.1066 - accuracy: 0.9602 - val_loss: 0.2244 - val_accuracy: 0.9311\n",
      "Epoch 20/30\n",
      "60000/60000 [==============================] - 40s 668us/sample - loss: 0.1016 - accuracy: 0.9611 - val_loss: 0.2327 - val_accuracy: 0.9314\n",
      "Epoch 21/30\n",
      "60000/60000 [==============================] - 41s 676us/sample - loss: 0.0967 - accuracy: 0.9624 - val_loss: 0.2354 - val_accuracy: 0.9312\n",
      "Epoch 22/30\n",
      "60000/60000 [==============================] - 40s 659us/sample - loss: 0.0935 - accuracy: 0.9643 - val_loss: 0.2406 - val_accuracy: 0.9340\n",
      "Epoch 23/30\n",
      "60000/60000 [==============================] - 41s 678us/sample - loss: 0.0932 - accuracy: 0.9639 - val_loss: 0.2335 - val_accuracy: 0.9337\n"
     ]
    }
   ],
   "source": [
    "from tensorflow.keras.callbacks import ModelCheckpoint, EarlyStopping\n",
    "# 모델의 실행\n",
    "history = model.fit(X_train, Y_train, validation_data=(X_test, Y_test), epochs=30,\n",
    "                    batch_size=200, #epochs=5, verbose=2, \n",
    "                    callbacks=[early_stopping_callback])"
   ]
  },
  {
   "cell_type": "code",
   "execution_count": 11,
   "metadata": {},
   "outputs": [
    {
     "data": {
      "text/plain": [
       "0.9337"
      ]
     },
     "execution_count": 11,
     "metadata": {},
     "output_type": "execute_result"
    }
   ],
   "source": [
    "model.evaluate(X_test, Y_test, verbose=0)[1]"
   ]
  },
  {
   "cell_type": "code",
   "execution_count": null,
   "metadata": {},
   "outputs": [],
   "source": []
  }
 ],
 "metadata": {
  "kernelspec": {
   "display_name": "Python 3",
   "language": "python",
   "name": "python3"
  },
  "language_info": {
   "codemirror_mode": {
    "name": "ipython",
    "version": 3
   },
   "file_extension": ".py",
   "mimetype": "text/x-python",
   "name": "python",
   "nbconvert_exporter": "python",
   "pygments_lexer": "ipython3",
   "version": "3.7.7"
  }
 },
 "nbformat": 4,
 "nbformat_minor": 4
}
