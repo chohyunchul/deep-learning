{
 "cells": [
  {
   "cell_type": "markdown",
   "metadata": {},
   "source": [
    "# 이미지 인식 - CNN"
   ]
  },
  {
   "cell_type": "markdown",
   "metadata": {},
   "source": [
    "## MNIST 사례"
   ]
  },
  {
   "cell_type": "code",
   "execution_count": 1,
   "metadata": {},
   "outputs": [],
   "source": [
    "import numpy as np\n",
    "import tensorflow as tf\n",
    "from tensorflow import keras\n",
    "from tensorflow.keras.datasets import mnist\n",
    "from tensorflow.keras.models import Sequential\n",
    "from tensorflow.keras.layers import Dense, Dropout, Flatten, Conv2D, MaxPooling2D\n",
    "from tensorflow.keras.callbacks import ModelCheckpoint, EarlyStopping\n",
    "\n",
    "import os\n",
    "import matplotlib.pyplot as plt\n",
    "%matplotlib inline"
   ]
  },
  {
   "cell_type": "code",
   "execution_count": 2,
   "metadata": {},
   "outputs": [],
   "source": [
    "# seed 값 설정\n",
    "seed = 0\n",
    "np.random.seed(seed)\n",
    "tf.random.set_seed(seed)"
   ]
  },
  {
   "cell_type": "code",
   "execution_count": 3,
   "metadata": {},
   "outputs": [],
   "source": [
    "# 데이터 불러오기\n",
    "(X_train, Y_train), (X_test, Y_test) = mnist.load_data()\n",
    "X_train = X_train.reshape(-1, 28, 28, 1).astype('float32')/255\n",
    "X_test = X_test.reshape(-1, 28, 28, 1).astype('float32')/255\n",
    "Y_train = tf.keras.utils.to_categorical(Y_train)\n",
    "Y_test = tf.keras.utils.to_categorical(Y_test)"
   ]
  },
  {
   "cell_type": "code",
   "execution_count": 4,
   "metadata": {},
   "outputs": [
    {
     "name": "stdout",
     "output_type": "stream",
     "text": [
      "WARNING:tensorflow:Large dropout rate: 0.6 (>0.5). In TensorFlow 2.x, dropout() uses dropout rate instead of keep_prob. Please ensure that this is intended.\n",
      "Model: \"sequential\"\n",
      "_________________________________________________________________\n",
      "Layer (type)                 Output Shape              Param #   \n",
      "=================================================================\n",
      "conv2d (Conv2D)              (None, 26, 26, 32)        320       \n",
      "_________________________________________________________________\n",
      "conv2d_1 (Conv2D)            (None, 24, 24, 64)        18496     \n",
      "_________________________________________________________________\n",
      "max_pooling2d (MaxPooling2D) (None, 12, 12, 64)        0         \n",
      "_________________________________________________________________\n",
      "dropout (Dropout)            (None, 12, 12, 64)        0         \n",
      "_________________________________________________________________\n",
      "max_pooling2d_1 (MaxPooling2 (None, 6, 6, 64)          0         \n",
      "_________________________________________________________________\n",
      "flatten (Flatten)            (None, 2304)              0         \n",
      "_________________________________________________________________\n",
      "dense (Dense)                (None, 1000)              2305000   \n",
      "_________________________________________________________________\n",
      "dense_1 (Dense)              (None, 600)               600600    \n",
      "_________________________________________________________________\n",
      "dropout_1 (Dropout)          (None, 600)               0         \n",
      "_________________________________________________________________\n",
      "dense_2 (Dense)              (None, 10)                6010      \n",
      "=================================================================\n",
      "Total params: 2,930,426\n",
      "Trainable params: 2,930,426\n",
      "Non-trainable params: 0\n",
      "_________________________________________________________________\n"
     ]
    }
   ],
   "source": [
    "# 컨볼루션 신경망 설정\n",
    "# Conv2D(32 마스크의 갯수 kernel_size 마스크의 크기\n",
    "#input_shape=(28,28,1) 행,열 컬러(3) 또는 흑백(1)\n",
    "model = Sequential([\n",
    "    Conv2D(32, kernel_size=(3,3), input_shape=(28,28,1), activation='relu'),\n",
    "    Conv2D(64, (3, 3), activation='elu'),\n",
    "    MaxPooling2D(pool_size=2),\n",
    "    Dropout(0.3),\n",
    "    MaxPooling2D(pool_size=2),\n",
    "    Flatten(),\n",
    "    Dense(1000, activation='elu'),\n",
    "    Dense(600, activation='elu'),    \n",
    "    Dropout(0.6),\n",
    "    Dense(10, activation='softmax')\n",
    "])\n",
    "model.summary() "
   ]
  },
  {
   "cell_type": "code",
   "execution_count": 5,
   "metadata": {},
   "outputs": [],
   "source": [
    "model.compile(loss='categorical_crossentropy',\n",
    "              optimizer='adam',\n",
    "              metrics=['accuracy'])"
   ]
  },
  {
   "cell_type": "code",
   "execution_count": 6,
   "metadata": {},
   "outputs": [],
   "source": [
    "# 모델 최적화 설정\n",
    "MODEL_DIR = './model/'\n",
    "if not os.path.exists(MODEL_DIR):\n",
    "    os.mkdir(MEDEL_DIR)"
   ]
  },
  {
   "cell_type": "code",
   "execution_count": 7,
   "metadata": {},
   "outputs": [],
   "source": [
    "modelpath = MODEL_DIR + \"mnist-cnn-{epoch:02d}-{val_loss:.4f}.hdf5\"\n",
    "checkpointer = ModelCheckpoint(filepath=modelpath, monitor='val_loss', \n",
    "                               verbose=1, save_best_only=True)\n",
    "early_stopping_callback = EarlyStopping(monitor='val_loss', patience=10)"
   ]
  },
  {
   "cell_type": "code",
   "execution_count": 8,
   "metadata": {
    "scrolled": false
   },
   "outputs": [
    {
     "name": "stdout",
     "output_type": "stream",
     "text": [
      "Train on 60000 samples, validate on 10000 samples\n",
      "Epoch 1/30\n",
      "WARNING:tensorflow:Large dropout rate: 0.6 (>0.5). In TensorFlow 2.x, dropout() uses dropout rate instead of keep_prob. Please ensure that this is intended.\n",
      "WARNING:tensorflow:Large dropout rate: 0.6 (>0.5). In TensorFlow 2.x, dropout() uses dropout rate instead of keep_prob. Please ensure that this is intended.\n",
      "59600/60000 [============================>.] - ETA: 0s - loss: 0.2243 - accuracy: 0.9292\n",
      "Epoch 00001: val_loss improved from inf to 0.08303, saving model to ./model/mnist-cnn-01-0.0830.hdf5\n",
      "60000/60000 [==============================] - 45s 747us/sample - loss: 0.2235 - accuracy: 0.9294 - val_loss: 0.0830 - val_accuracy: 0.9726\n",
      "Epoch 2/30\n",
      "59600/60000 [============================>.] - ETA: 0s - loss: 0.0642 - accuracy: 0.9798\n",
      "Epoch 00002: val_loss improved from 0.08303 to 0.07161, saving model to ./model/mnist-cnn-02-0.0716.hdf5\n",
      "60000/60000 [==============================] - 45s 744us/sample - loss: 0.0643 - accuracy: 0.9798 - val_loss: 0.0716 - val_accuracy: 0.9763\n",
      "Epoch 3/30\n",
      "59600/60000 [============================>.] - ETA: 0s - loss: 0.0487 - accuracy: 0.9855\n",
      "Epoch 00003: val_loss improved from 0.07161 to 0.06937, saving model to ./model/mnist-cnn-03-0.0694.hdf5\n",
      "60000/60000 [==============================] - 44s 735us/sample - loss: 0.0488 - accuracy: 0.9855 - val_loss: 0.0694 - val_accuracy: 0.9768\n",
      "Epoch 4/30\n",
      "59600/60000 [============================>.] - ETA: 0s - loss: 0.0431 - accuracy: 0.9862\n",
      "Epoch 00004: val_loss improved from 0.06937 to 0.05729, saving model to ./model/mnist-cnn-04-0.0573.hdf5\n",
      "60000/60000 [==============================] - 44s 738us/sample - loss: 0.0430 - accuracy: 0.9862 - val_loss: 0.0573 - val_accuracy: 0.9811\n",
      "Epoch 5/30\n",
      "59600/60000 [============================>.] - ETA: 0s - loss: 0.0399 - accuracy: 0.9869\n",
      "Epoch 00005: val_loss did not improve from 0.05729\n",
      "60000/60000 [==============================] - 45s 743us/sample - loss: 0.0399 - accuracy: 0.9869 - val_loss: 0.0696 - val_accuracy: 0.9782\n",
      "Epoch 6/30\n",
      "59600/60000 [============================>.] - ETA: 0s - loss: 0.0363 - accuracy: 0.9883\n",
      "Epoch 00006: val_loss did not improve from 0.05729\n",
      "60000/60000 [==============================] - 44s 736us/sample - loss: 0.0364 - accuracy: 0.9883 - val_loss: 0.0684 - val_accuracy: 0.9805\n",
      "Epoch 7/30\n",
      "59600/60000 [============================>.] - ETA: 0s - loss: 0.0345 - accuracy: 0.9889\n",
      "Epoch 00007: val_loss did not improve from 0.05729\n",
      "60000/60000 [==============================] - 44s 741us/sample - loss: 0.0344 - accuracy: 0.9889 - val_loss: 0.0582 - val_accuracy: 0.9816\n",
      "Epoch 8/30\n",
      "59600/60000 [============================>.] - ETA: 0s - loss: 0.0301 - accuracy: 0.9905\n",
      "Epoch 00008: val_loss improved from 0.05729 to 0.04338, saving model to ./model/mnist-cnn-08-0.0434.hdf5\n",
      "60000/60000 [==============================] - 44s 738us/sample - loss: 0.0302 - accuracy: 0.9905 - val_loss: 0.0434 - val_accuracy: 0.9867\n",
      "Epoch 9/30\n",
      "59600/60000 [============================>.] - ETA: 0s - loss: 0.0294 - accuracy: 0.9905\n",
      "Epoch 00009: val_loss improved from 0.04338 to 0.03697, saving model to ./model/mnist-cnn-09-0.0370.hdf5\n",
      "60000/60000 [==============================] - 44s 738us/sample - loss: 0.0296 - accuracy: 0.9905 - val_loss: 0.0370 - val_accuracy: 0.9896\n",
      "Epoch 10/30\n",
      "59600/60000 [============================>.] - ETA: 0s - loss: 0.0261 - accuracy: 0.9917\n",
      "Epoch 00010: val_loss did not improve from 0.03697\n",
      "60000/60000 [==============================] - 44s 738us/sample - loss: 0.0260 - accuracy: 0.9918 - val_loss: 0.0630 - val_accuracy: 0.9822\n",
      "Epoch 11/30\n",
      "59600/60000 [============================>.] - ETA: 0s - loss: 0.0263 - accuracy: 0.9918\n",
      "Epoch 00011: val_loss did not improve from 0.03697\n",
      "60000/60000 [==============================] - 44s 738us/sample - loss: 0.0263 - accuracy: 0.9918 - val_loss: 0.0535 - val_accuracy: 0.9840\n",
      "Epoch 12/30\n",
      "59600/60000 [============================>.] - ETA: 0s - loss: 0.0287 - accuracy: 0.9910\n",
      "Epoch 00012: val_loss did not improve from 0.03697\n",
      "60000/60000 [==============================] - 44s 737us/sample - loss: 0.0287 - accuracy: 0.9910 - val_loss: 0.0440 - val_accuracy: 0.9869\n",
      "Epoch 13/30\n",
      "59600/60000 [============================>.] - ETA: 0s - loss: 0.0245 - accuracy: 0.9917\n",
      "Epoch 00013: val_loss did not improve from 0.03697\n",
      "60000/60000 [==============================] - 44s 735us/sample - loss: 0.0245 - accuracy: 0.9917 - val_loss: 0.0627 - val_accuracy: 0.9854\n",
      "Epoch 14/30\n",
      "59600/60000 [============================>.] - ETA: 0s - loss: 0.0230 - accuracy: 0.9927\n",
      "Epoch 00014: val_loss did not improve from 0.03697\n",
      "60000/60000 [==============================] - 44s 732us/sample - loss: 0.0230 - accuracy: 0.9927 - val_loss: 0.0449 - val_accuracy: 0.9867\n",
      "Epoch 15/30\n",
      "59600/60000 [============================>.] - ETA: 0s - loss: 0.0229 - accuracy: 0.9927\n",
      "Epoch 00015: val_loss did not improve from 0.03697\n",
      "60000/60000 [==============================] - 44s 732us/sample - loss: 0.0231 - accuracy: 0.9927 - val_loss: 0.0464 - val_accuracy: 0.9883\n",
      "Epoch 16/30\n",
      "59600/60000 [============================>.] - ETA: 0s - loss: 0.0217 - accuracy: 0.9929\n",
      "Epoch 00016: val_loss did not improve from 0.03697\n",
      "60000/60000 [==============================] - 44s 733us/sample - loss: 0.0217 - accuracy: 0.9929 - val_loss: 0.0536 - val_accuracy: 0.9858\n",
      "Epoch 17/30\n",
      "59600/60000 [============================>.] - ETA: 0s - loss: 0.0204 - accuracy: 0.9932\n",
      "Epoch 00017: val_loss did not improve from 0.03697\n",
      "60000/60000 [==============================] - 44s 733us/sample - loss: 0.0205 - accuracy: 0.9932 - val_loss: 0.0478 - val_accuracy: 0.9883\n",
      "Epoch 18/30\n",
      "59600/60000 [============================>.] - ETA: 0s - loss: 0.0238 - accuracy: 0.9928\n",
      "Epoch 00018: val_loss did not improve from 0.03697\n",
      "60000/60000 [==============================] - 44s 733us/sample - loss: 0.0238 - accuracy: 0.9928 - val_loss: 0.0570 - val_accuracy: 0.9859\n",
      "Epoch 19/30\n",
      "59600/60000 [============================>.] - ETA: 0s - loss: 0.0204 - accuracy: 0.9932\n",
      "Epoch 00019: val_loss did not improve from 0.03697\n",
      "60000/60000 [==============================] - 44s 733us/sample - loss: 0.0207 - accuracy: 0.9932 - val_loss: 0.0436 - val_accuracy: 0.9902\n"
     ]
    }
   ],
   "source": [
    "# 모델의 실행\n",
    "history = model.fit(X_train, Y_train, validation_data=(X_test, Y_test), epochs=30,\n",
    "                    batch_size=400, #epochs=5, verbose=2, \n",
    "                    callbacks=[early_stopping_callback, checkpointer])"
   ]
  },
  {
   "cell_type": "code",
   "execution_count": 14,
   "metadata": {},
   "outputs": [],
   "source": [
    "del model"
   ]
  },
  {
   "cell_type": "code",
   "execution_count": 15,
   "metadata": {},
   "outputs": [
    {
     "name": "stdout",
     "output_type": "stream",
     "text": [
      "WARNING:tensorflow:Large dropout rate: 0.6 (>0.5). In TensorFlow 2.x, dropout() uses dropout rate instead of keep_prob. Please ensure that this is intended.\n"
     ]
    }
   ],
   "source": [
    "from tensorflow.keras.models import load_model\n",
    "model = load_model('model/mnist-cnn-09-0.0370.hdf5')"
   ]
  },
  {
   "cell_type": "code",
   "execution_count": 16,
   "metadata": {},
   "outputs": [
    {
     "data": {
      "text/plain": [
       "0.9896"
      ]
     },
     "execution_count": 16,
     "metadata": {},
     "output_type": "execute_result"
    }
   ],
   "source": [
    "# 베스트 모델의 결과 출력 \n",
    "model.evaluate(X_test, Y_test, verbose=0)[1]"
   ]
  },
  {
   "cell_type": "code",
   "execution_count": 12,
   "metadata": {},
   "outputs": [],
   "source": [
    "# 테스트셋의 오차\n",
    "y_vloss = history.history['val_loss']\n",
    "\n",
    "# 학습셋의 오차\n",
    "y_loss = history.history['loss']"
   ]
  },
  {
   "cell_type": "code",
   "execution_count": 13,
   "metadata": {},
   "outputs": [
    {
     "data": {
      "image/png": "[encoded data removed]",
      "text/plain": [
       "<Figure size 576x432 with 1 Axes>"
      ]
     },
     "metadata": {
      "needs_background": "light"
     },
     "output_type": "display_data"
    }
   ],
   "source": [
    "# 그래프로 표현\n",
    "x_len = np.arange(1, len(y_loss)+1)\n",
    "plt.figure(figsize=(8,6))\n",
    "plt.plot(x_len, y_vloss, marker='.', c=\"red\", label='Testset_loss')\n",
    "plt.plot(x_len, y_loss, marker='.', c=\"blue\", label='Trainset_loss')\n",
    "\n",
    "# 그래프에 그리드를 주고 레이블을 표시\n",
    "plt.legend(loc='upper right')\n",
    "# plt.axis([0, 20, 0, 0.35])\n",
    "plt.grid()\n",
    "plt.xlabel('epoch')\n",
    "plt.ylabel('loss')\n",
    "plt.show()"
   ]
  },
  {
   "cell_type": "code",
   "execution_count": null,
   "metadata": {},
   "outputs": [],
   "source": []
  },
  {
   "cell_type": "code",
   "execution_count": null,
   "metadata": {},
   "outputs": [],
   "source": []
  }
 ],
 "metadata": {
  "kernelspec": {
   "display_name": "Python 3",
   "language": "python",
   "name": "python3"
  },
  "language_info": {
   "codemirror_mode": {
    "name": "ipython",
    "version": 3
   },
   "file_extension": ".py",
   "mimetype": "text/x-python",
   "name": "python",
   "nbconvert_exporter": "python",
   "pygments_lexer": "ipython3",
   "version": "3.7.7"
  }
 },
 "nbformat": 4,
 "nbformat_minor": 4
}
