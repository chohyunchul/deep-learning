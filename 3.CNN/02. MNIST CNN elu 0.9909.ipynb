{
 "cells": [
  {
   "cell_type": "markdown",
   "metadata": {},
   "source": [
    "# 이미지 인식 - CNN"
   ]
  },
  {
   "cell_type": "markdown",
   "metadata": {},
   "source": [
    "## MNIST 사례"
   ]
  },
  {
   "cell_type": "code",
   "execution_count": 1,
   "metadata": {},
   "outputs": [],
   "source": [
    "import numpy as np\n",
    "import tensorflow as tf\n",
    "from tensorflow import keras\n",
    "from tensorflow.keras.datasets import mnist\n",
    "from tensorflow.keras.models import Sequential\n",
    "from tensorflow.keras.layers import Dense, Dropout, Flatten, Conv2D, MaxPooling2D\n",
    "from tensorflow.keras.callbacks import ModelCheckpoint, EarlyStopping\n",
    "\n",
    "import os\n",
    "import matplotlib.pyplot as plt\n",
    "%matplotlib inline"
   ]
  },
  {
   "cell_type": "code",
   "execution_count": 2,
   "metadata": {},
   "outputs": [],
   "source": [
    "# seed 값 설정\n",
    "seed = 0\n",
    "np.random.seed(seed)\n",
    "tf.random.set_seed(seed)"
   ]
  },
  {
   "cell_type": "code",
   "execution_count": 3,
   "metadata": {},
   "outputs": [],
   "source": [
    "# 데이터 불러오기\n",
    "(X_train, Y_train), (X_test, Y_test) = mnist.load_data()\n",
    "X_train = X_train.reshape(-1, 28, 28, 1).astype('float32')/255\n",
    "X_test = X_test.reshape(-1, 28, 28, 1).astype('float32')/255\n",
    "Y_train = tf.keras.utils.to_categorical(Y_train)\n",
    "Y_test = tf.keras.utils.to_categorical(Y_test)"
   ]
  },
  {
   "cell_type": "code",
   "execution_count": 4,
   "metadata": {},
   "outputs": [
    {
     "name": "stdout",
     "output_type": "stream",
     "text": [
      "Model: \"sequential\"\n",
      "_________________________________________________________________\n",
      "Layer (type)                 Output Shape              Param #   \n",
      "=================================================================\n",
      "conv2d (Conv2D)              (None, 26, 26, 32)        320       \n",
      "_________________________________________________________________\n",
      "conv2d_1 (Conv2D)            (None, 24, 24, 64)        18496     \n",
      "_________________________________________________________________\n",
      "max_pooling2d (MaxPooling2D) (None, 12, 12, 64)        0         \n",
      "_________________________________________________________________\n",
      "dropout (Dropout)            (None, 12, 12, 64)        0         \n",
      "_________________________________________________________________\n",
      "max_pooling2d_1 (MaxPooling2 (None, 6, 6, 64)          0         \n",
      "_________________________________________________________________\n",
      "flatten (Flatten)            (None, 2304)              0         \n",
      "_________________________________________________________________\n",
      "dense (Dense)                (None, 1000)              2305000   \n",
      "_________________________________________________________________\n",
      "dense_1 (Dense)              (None, 500)               500500    \n",
      "_________________________________________________________________\n",
      "dropout_1 (Dropout)          (None, 500)               0         \n",
      "_________________________________________________________________\n",
      "dense_2 (Dense)              (None, 10)                5010      \n",
      "=================================================================\n",
      "Total params: 2,829,326\n",
      "Trainable params: 2,829,326\n",
      "Non-trainable params: 0\n",
      "_________________________________________________________________\n"
     ]
    }
   ],
   "source": [
    "# 컨볼루션 신경망 설정\n",
    "# Conv2D(32 마스크의 갯수 kernel_size 마스크의 크기\n",
    "#input_shape=(28,28,1) 행,열 컬러(3) 또는 흑백(1)\n",
    "model = Sequential([\n",
    "    Conv2D(32, kernel_size=(3,3), input_shape=(28,28,1), activation='relu'),\n",
    "    Conv2D(64, (3, 3), activation='elu'),\n",
    "    MaxPooling2D(pool_size=2),\n",
    "    Dropout(0.3),\n",
    "    MaxPooling2D(pool_size=2),\n",
    "    Flatten(),\n",
    "    Dense(1000, activation='elu'),\n",
    "    Dense(500, activation='elu'),\n",
    "    Dropout(0.5),\n",
    "    Dense(10, activation='softmax')\n",
    "])\n",
    "model.summary() "
   ]
  },
  {
   "cell_type": "code",
   "execution_count": 5,
   "metadata": {},
   "outputs": [],
   "source": [
    "model.compile(loss='categorical_crossentropy',\n",
    "              optimizer='adam',\n",
    "              metrics=['accuracy'])"
   ]
  },
  {
   "cell_type": "code",
   "execution_count": 6,
   "metadata": {},
   "outputs": [],
   "source": [
    "# 모델 최적화 설정\n",
    "MODEL_DIR = './model/'\n",
    "if not os.path.exists(MODEL_DIR):\n",
    "    os.mkdir(MEDEL_DIR)"
   ]
  },
  {
   "cell_type": "code",
   "execution_count": 7,
   "metadata": {},
   "outputs": [],
   "source": [
    "modelpath = MODEL_DIR + \"mnist-cnn-{epoch:02d}-{val_loss:.4f}.hdf5\"\n",
    "checkpointer = ModelCheckpoint(filepath=modelpath, monitor='val_loss', \n",
    "                               verbose=1, save_best_only=True)\n",
    "early_stopping_callback = EarlyStopping(monitor='val_loss', patience=10)"
   ]
  },
  {
   "cell_type": "code",
   "execution_count": 8,
   "metadata": {
    "scrolled": false
   },
   "outputs": [
    {
     "name": "stdout",
     "output_type": "stream",
     "text": [
      "Train on 60000 samples, validate on 10000 samples\n",
      "Epoch 1/30\n",
      "59600/60000 [============================>.] - ETA: 0s - loss: 0.2127 - accuracy: 0.9337\n",
      "Epoch 00001: val_loss improved from inf to 0.07714, saving model to ./model/mnist-cnn-01-0.0771.hdf5\n",
      "60000/60000 [==============================] - 45s 749us/sample - loss: 0.2120 - accuracy: 0.9340 - val_loss: 0.0771 - val_accuracy: 0.9760\n",
      "Epoch 2/30\n",
      "59600/60000 [============================>.] - ETA: 0s - loss: 0.0617 - accuracy: 0.9805\n",
      "Epoch 00002: val_loss did not improve from 0.07714\n",
      "60000/60000 [==============================] - 44s 727us/sample - loss: 0.0618 - accuracy: 0.9805 - val_loss: 0.0827 - val_accuracy: 0.9733\n",
      "Epoch 3/30\n",
      "59600/60000 [============================>.] - ETA: 0s - loss: 0.0485 - accuracy: 0.9850\n",
      "Epoch 00003: val_loss improved from 0.07714 to 0.06117, saving model to ./model/mnist-cnn-03-0.0612.hdf5\n",
      "60000/60000 [==============================] - 44s 727us/sample - loss: 0.0485 - accuracy: 0.9850 - val_loss: 0.0612 - val_accuracy: 0.9792\n",
      "Epoch 4/30\n",
      "59600/60000 [============================>.] - ETA: 0s - loss: 0.0407 - accuracy: 0.9870\n",
      "Epoch 00004: val_loss improved from 0.06117 to 0.04896, saving model to ./model/mnist-cnn-04-0.0490.hdf5\n",
      "60000/60000 [==============================] - 44s 735us/sample - loss: 0.0407 - accuracy: 0.9870 - val_loss: 0.0490 - val_accuracy: 0.9847\n",
      "Epoch 5/30\n",
      "59600/60000 [============================>.] - ETA: 0s - loss: 0.0374 - accuracy: 0.9881\n",
      "Epoch 00005: val_loss did not improve from 0.04896\n",
      "60000/60000 [==============================] - 44s 737us/sample - loss: 0.0374 - accuracy: 0.9881 - val_loss: 0.0498 - val_accuracy: 0.9851\n",
      "Epoch 6/30\n",
      "59600/60000 [============================>.] - ETA: 0s - loss: 0.0338 - accuracy: 0.9889\n",
      "Epoch 00006: val_loss improved from 0.04896 to 0.04505, saving model to ./model/mnist-cnn-06-0.0450.hdf5\n",
      "60000/60000 [==============================] - 45s 750us/sample - loss: 0.0340 - accuracy: 0.9888 - val_loss: 0.0450 - val_accuracy: 0.9867\n",
      "Epoch 7/30\n",
      "59600/60000 [============================>.] - ETA: 0s - loss: 0.0309 - accuracy: 0.9903\n",
      "Epoch 00007: val_loss did not improve from 0.04505\n",
      "60000/60000 [==============================] - 45s 754us/sample - loss: 0.0308 - accuracy: 0.9903 - val_loss: 0.0487 - val_accuracy: 0.9854\n",
      "Epoch 8/30\n",
      "59600/60000 [============================>.] - ETA: 0s - loss: 0.0274 - accuracy: 0.9909\n",
      "Epoch 00008: val_loss did not improve from 0.04505\n",
      "60000/60000 [==============================] - 45s 751us/sample - loss: 0.0275 - accuracy: 0.9908 - val_loss: 0.0490 - val_accuracy: 0.9865\n",
      "Epoch 9/30\n",
      "59600/60000 [============================>.] - ETA: 0s - loss: 0.0293 - accuracy: 0.9902\n",
      "Epoch 00009: val_loss improved from 0.04505 to 0.04467, saving model to ./model/mnist-cnn-09-0.0447.hdf5\n",
      "60000/60000 [==============================] - 45s 756us/sample - loss: 0.0295 - accuracy: 0.9901 - val_loss: 0.0447 - val_accuracy: 0.9875\n",
      "Epoch 10/30\n",
      "59600/60000 [============================>.] - ETA: 0s - loss: 0.0264 - accuracy: 0.9915\n",
      "Epoch 00010: val_loss did not improve from 0.04467\n",
      "60000/60000 [==============================] - 65s 1ms/sample - loss: 0.0263 - accuracy: 0.9916 - val_loss: 0.0652 - val_accuracy: 0.9809\n",
      "Epoch 11/30\n",
      "59600/60000 [============================>.] - ETA: 0s - loss: 0.0236 - accuracy: 0.9921\n",
      "Epoch 00011: val_loss did not improve from 0.04467\n",
      "60000/60000 [==============================] - 72s 1ms/sample - loss: 0.0236 - accuracy: 0.9921 - val_loss: 0.0557 - val_accuracy: 0.9850\n",
      "Epoch 12/30\n",
      "59600/60000 [============================>.] - ETA: 0s - loss: 0.0249 - accuracy: 0.9921\n",
      "Epoch 00012: val_loss improved from 0.04467 to 0.04153, saving model to ./model/mnist-cnn-12-0.0415.hdf5\n",
      "60000/60000 [==============================] - 44s 735us/sample - loss: 0.0248 - accuracy: 0.9921 - val_loss: 0.0415 - val_accuracy: 0.9878\n",
      "Epoch 13/30\n",
      "59600/60000 [============================>.] - ETA: 0s - loss: 0.0233 - accuracy: 0.9920\n",
      "Epoch 00013: val_loss did not improve from 0.04153\n",
      "60000/60000 [==============================] - 44s 735us/sample - loss: 0.0234 - accuracy: 0.9920 - val_loss: 0.0548 - val_accuracy: 0.9869\n",
      "Epoch 14/30\n",
      "59600/60000 [============================>.] - ETA: 0s - loss: 0.0212 - accuracy: 0.9929\n",
      "Epoch 00014: val_loss improved from 0.04153 to 0.03738, saving model to ./model/mnist-cnn-14-0.0374.hdf5\n",
      "60000/60000 [==============================] - 44s 736us/sample - loss: 0.0211 - accuracy: 0.9929 - val_loss: 0.0374 - val_accuracy: 0.9909\n",
      "Epoch 15/30\n",
      "59600/60000 [============================>.] - ETA: 0s - loss: 0.0212 - accuracy: 0.9931\n",
      "Epoch 00015: val_loss did not improve from 0.03738\n",
      "60000/60000 [==============================] - 44s 731us/sample - loss: 0.0213 - accuracy: 0.9930 - val_loss: 0.0420 - val_accuracy: 0.9898\n",
      "Epoch 16/30\n",
      "59600/60000 [============================>.] - ETA: 0s - loss: 0.0196 - accuracy: 0.9931\n",
      "Epoch 00016: val_loss did not improve from 0.03738\n",
      "60000/60000 [==============================] - 44s 726us/sample - loss: 0.0196 - accuracy: 0.9932 - val_loss: 0.0513 - val_accuracy: 0.9874\n",
      "Epoch 17/30\n",
      "59600/60000 [============================>.] - ETA: 0s - loss: 0.0179 - accuracy: 0.9943\n",
      "Epoch 00017: val_loss did not improve from 0.03738\n",
      "60000/60000 [==============================] - 45s 746us/sample - loss: 0.0180 - accuracy: 0.9943 - val_loss: 0.0550 - val_accuracy: 0.9871\n",
      "Epoch 18/30\n",
      "59600/60000 [============================>.] - ETA: 0s - loss: 0.0191 - accuracy: 0.9941\n",
      "Epoch 00018: val_loss did not improve from 0.03738\n",
      "60000/60000 [==============================] - 45s 747us/sample - loss: 0.0192 - accuracy: 0.9940 - val_loss: 0.0573 - val_accuracy: 0.9867\n",
      "Epoch 19/30\n",
      "59600/60000 [============================>.] - ETA: 0s - loss: 0.0189 - accuracy: 0.9939\n",
      "Epoch 00019: val_loss did not improve from 0.03738\n",
      "60000/60000 [==============================] - 44s 740us/sample - loss: 0.0189 - accuracy: 0.9939 - val_loss: 0.0638 - val_accuracy: 0.9865\n",
      "Epoch 20/30\n",
      "59600/60000 [============================>.] - ETA: 0s - loss: 0.0171 - accuracy: 0.9945\n",
      "Epoch 00020: val_loss did not improve from 0.03738\n",
      "60000/60000 [==============================] - 44s 739us/sample - loss: 0.0173 - accuracy: 0.9945 - val_loss: 0.0409 - val_accuracy: 0.9902\n",
      "Epoch 21/30\n",
      "59600/60000 [============================>.] - ETA: 0s - loss: 0.0161 - accuracy: 0.9948\n",
      "Epoch 00021: val_loss did not improve from 0.03738\n",
      "60000/60000 [==============================] - 45s 747us/sample - loss: 0.0160 - accuracy: 0.9948 - val_loss: 0.0378 - val_accuracy: 0.9912\n",
      "Epoch 22/30\n",
      "59600/60000 [============================>.] - ETA: 0s - loss: 0.0180 - accuracy: 0.9944\n",
      "Epoch 00022: val_loss did not improve from 0.03738\n",
      "60000/60000 [==============================] - 45s 744us/sample - loss: 0.0179 - accuracy: 0.9944 - val_loss: 0.0653 - val_accuracy: 0.9869\n",
      "Epoch 23/30\n",
      "59600/60000 [============================>.] - ETA: 0s - loss: 0.0156 - accuracy: 0.9950\n",
      "Epoch 00023: val_loss did not improve from 0.03738\n",
      "60000/60000 [==============================] - 45s 743us/sample - loss: 0.0155 - accuracy: 0.9950 - val_loss: 0.0383 - val_accuracy: 0.9908\n",
      "Epoch 24/30\n",
      "59600/60000 [============================>.] - ETA: 0s - loss: 0.0156 - accuracy: 0.9950\n",
      "Epoch 00024: val_loss did not improve from 0.03738\n",
      "60000/60000 [==============================] - 44s 731us/sample - loss: 0.0155 - accuracy: 0.9950 - val_loss: 0.0472 - val_accuracy: 0.9899\n"
     ]
    }
   ],
   "source": [
    "# 모델의 실행\n",
    "history = model.fit(X_train, Y_train, validation_data=(X_test, Y_test), epochs=30,\n",
    "                    batch_size=400, #epochs=5, verbose=2, \n",
    "                    callbacks=[early_stopping_callback, checkpointer])"
   ]
  },
  {
   "cell_type": "code",
   "execution_count": 14,
   "metadata": {},
   "outputs": [],
   "source": [
    "del model"
   ]
  },
  {
   "cell_type": "code",
   "execution_count": 15,
   "metadata": {},
   "outputs": [],
   "source": [
    "from tensorflow.keras.models import load_model\n",
    "model = load_model('model/mnist-cnn-14-0.0374.hdf5')"
   ]
  },
  {
   "cell_type": "code",
   "execution_count": 16,
   "metadata": {},
   "outputs": [
    {
     "data": {
      "text/plain": [
       "0.9909"
      ]
     },
     "execution_count": 16,
     "metadata": {},
     "output_type": "execute_result"
    }
   ],
   "source": [
    "# 베스트 모델의 결과 출력 \n",
    "model.evaluate(X_test, Y_test, verbose=0)[1]"
   ]
  },
  {
   "cell_type": "code",
   "execution_count": 12,
   "metadata": {},
   "outputs": [],
   "source": [
    "# 테스트셋의 오차\n",
    "y_vloss = history.history['val_loss']\n",
    "\n",
    "# 학습셋의 오차\n",
    "y_loss = history.history['loss']"
   ]
  },
  {
   "cell_type": "code",
   "execution_count": 13,
   "metadata": {},
   "outputs": [
    {
     "data": {
      "image/png": "[encoded data removed]",
      "text/plain": [
       "<Figure size 576x432 with 1 Axes>"
      ]
     },
     "metadata": {
      "needs_background": "light"
     },
     "output_type": "display_data"
    }
   ],
   "source": [
    "# 그래프로 표현\n",
    "x_len = np.arange(1, len(y_loss)+1)\n",
    "plt.figure(figsize=(8,6))\n",
    "plt.plot(x_len, y_vloss, marker='.', c=\"red\", label='Testset_loss')\n",
    "plt.plot(x_len, y_loss, marker='.', c=\"blue\", label='Trainset_loss')\n",
    "\n",
    "# 그래프에 그리드를 주고 레이블을 표시\n",
    "plt.legend(loc='upper right')\n",
    "# plt.axis([0, 20, 0, 0.35])\n",
    "plt.grid()\n",
    "plt.xlabel('epoch')\n",
    "plt.ylabel('loss')\n",
    "plt.show()"
   ]
  },
  {
   "cell_type": "code",
   "execution_count": null,
   "metadata": {},
   "outputs": [],
   "source": []
  },
  {
   "cell_type": "code",
   "execution_count": null,
   "metadata": {},
   "outputs": [],
   "source": []
  }
 ],
 "metadata": {
  "kernelspec": {
   "display_name": "Python 3",
   "language": "python",
   "name": "python3"
  },
  "language_info": {
   "codemirror_mode": {
    "name": "ipython",
    "version": 3
   },
   "file_extension": ".py",
   "mimetype": "text/x-python",
   "name": "python",
   "nbconvert_exporter": "python",
   "pygments_lexer": "ipython3",
   "version": "3.7.7"
  }
 },
 "nbformat": 4,
 "nbformat_minor": 4
}
