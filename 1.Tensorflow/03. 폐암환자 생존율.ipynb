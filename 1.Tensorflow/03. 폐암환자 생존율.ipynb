{
 "cells": [
  {
   "cell_type": "markdown",
   "metadata": {},
   "source": [
    "# 폐암 수술 환자의 생존율 데이터 분석"
   ]
  },
  {
   "cell_type": "code",
   "execution_count": 1,
   "metadata": {},
   "outputs": [
    {
     "data": {
      "text/plain": [
       "'2.1.0'"
      ]
     },
     "execution_count": 1,
     "metadata": {},
     "output_type": "execute_result"
    }
   ],
   "source": [
    "import numpy as np\n",
    "import tensorflow as tf\n",
    "tf.__version__"
   ]
  },
  {
   "cell_type": "code",
   "execution_count": 2,
   "metadata": {},
   "outputs": [],
   "source": [
    "from tensorflow.keras.models import Sequential\n",
    "from tensorflow.keras.layers import Dense"
   ]
  },
  {
   "cell_type": "code",
   "execution_count": 3,
   "metadata": {},
   "outputs": [],
   "source": [
    "# 실행할 때마다 같은 결과를 출력하기 위한 seed 값 설정\n",
    "seed = 2020\n",
    "np.random.seed(seed)\n",
    "tf.random.set_seed(seed)"
   ]
  },
  {
   "cell_type": "code",
   "execution_count": 4,
   "metadata": {},
   "outputs": [
    {
     "data": {
      "text/plain": [
       "array([[293.  ,   1.  ,   3.8 ,   2.8 ,   0.  ,   0.  ,   0.  ,   0.  ,\n",
       "          0.  ,   0.  ,  12.  ,   0.  ,   0.  ,   0.  ,   1.  ,   0.  ,\n",
       "         62.  ,   0.  ],\n",
       "       [  1.  ,   2.  ,   2.88,   2.16,   1.  ,   0.  ,   0.  ,   0.  ,\n",
       "          1.  ,   1.  ,  14.  ,   0.  ,   0.  ,   0.  ,   1.  ,   0.  ,\n",
       "         60.  ,   0.  ],\n",
       "       [  8.  ,   2.  ,   3.19,   2.5 ,   1.  ,   0.  ,   0.  ,   0.  ,\n",
       "          1.  ,   0.  ,  11.  ,   0.  ,   0.  ,   1.  ,   1.  ,   0.  ,\n",
       "         66.  ,   1.  ]])"
      ]
     },
     "execution_count": 4,
     "metadata": {},
     "output_type": "execute_result"
    }
   ],
   "source": [
    "# 준비된 수술 환자 데이터를 불러들임\n",
    "Data_set = np.loadtxt(\"dataset/ThoraricSurgery.csv\", delimiter=\",\")\n",
    "Data_set[:3, :]"
   ]
  },
  {
   "cell_type": "code",
   "execution_count": 5,
   "metadata": {},
   "outputs": [
    {
     "data": {
      "text/plain": [
       "((470, 17), (470,))"
      ]
     },
     "execution_count": 5,
     "metadata": {},
     "output_type": "execute_result"
    }
   ],
   "source": [
    "# 환자의 기록과 수술 결과를 x와 y로 구분하여 저장\n",
    "X = Data_set[:, 0:17]\n",
    "Y = Data_set[:, 17]\n",
    "X.shape, Y.shape"
   ]
  },
  {
   "cell_type": "code",
   "execution_count": 7,
   "metadata": {
    "scrolled": true
   },
   "outputs": [
    {
     "name": "stdout",
     "output_type": "stream",
     "text": [
      "Model: \"sequential_1\"\n",
      "_________________________________________________________________\n",
      "Layer (type)                 Output Shape              Param #   \n",
      "=================================================================\n",
      "dense_2 (Dense)              (None, 40)                720       \n",
      "_________________________________________________________________\n",
      "dense_3 (Dense)              (None, 1)                 41        \n",
      "=================================================================\n",
      "Total params: 761\n",
      "Trainable params: 761\n",
      "Non-trainable params: 0\n",
      "_________________________________________________________________\n"
     ]
    }
   ],
   "source": [
    "# 딥러닝 모델 설정\n",
    "model = Sequential([Dense(40, input_shape=(17,), activation='relu'),\n",
    "                   Dense(1, activation='sigmoid')])\n",
    "model.summary()"
   ]
  },
  {
   "cell_type": "code",
   "execution_count": 8,
   "metadata": {},
   "outputs": [],
   "source": [
    "# 딥러닝 환경 설정 (오차함수, 최적화함수)\n",
    "model.compile(loss='binary_crossentropy', optimizer='adam', metrics=['accuracy'])"
   ]
  },
  {
   "cell_type": "code",
   "execution_count": 9,
   "metadata": {
    "scrolled": true
   },
   "outputs": [
    {
     "name": "stdout",
     "output_type": "stream",
     "text": [
      "Train on 470 samples\n",
      "Epoch 1/20\n",
      "470/470 [==============================] - 0s 616us/sample - loss: 1.4957 - accuracy: 0.8000\n",
      "Epoch 2/20\n",
      "470/470 [==============================] - 0s 76us/sample - loss: 0.6231 - accuracy: 0.8021\n",
      "Epoch 3/20\n",
      "470/470 [==============================] - 0s 81us/sample - loss: 0.4855 - accuracy: 0.8362\n",
      "Epoch 4/20\n",
      "470/470 [==============================] - 0s 79us/sample - loss: 0.4707 - accuracy: 0.8468\n",
      "Epoch 5/20\n",
      "470/470 [==============================] - 0s 83us/sample - loss: 0.4911 - accuracy: 0.8277\n",
      "Epoch 6/20\n",
      "470/470 [==============================] - 0s 83us/sample - loss: 0.4754 - accuracy: 0.8468\n",
      "Epoch 7/20\n",
      "470/470 [==============================] - 0s 81us/sample - loss: 0.4680 - accuracy: 0.8340\n",
      "Epoch 8/20\n",
      "470/470 [==============================] - 0s 83us/sample - loss: 0.4716 - accuracy: 0.8468\n",
      "Epoch 9/20\n",
      "470/470 [==============================] - 0s 85us/sample - loss: 0.4523 - accuracy: 0.8489\n",
      "Epoch 10/20\n",
      "470/470 [==============================] - 0s 76us/sample - loss: 0.4680 - accuracy: 0.8553\n",
      "Epoch 11/20\n",
      "470/470 [==============================] - 0s 85us/sample - loss: 0.4474 - accuracy: 0.8426\n",
      "Epoch 12/20\n",
      "470/470 [==============================] - 0s 83us/sample - loss: 0.4920 - accuracy: 0.8511\n",
      "Epoch 13/20\n",
      "470/470 [==============================] - 0s 78us/sample - loss: 0.4641 - accuracy: 0.8532\n",
      "Epoch 14/20\n",
      "470/470 [==============================] - 0s 83us/sample - loss: 0.4577 - accuracy: 0.8383\n",
      "Epoch 15/20\n",
      "470/470 [==============================] - 0s 79us/sample - loss: 0.4906 - accuracy: 0.8426\n",
      "Epoch 16/20\n",
      "470/470 [==============================] - 0s 81us/sample - loss: 0.4632 - accuracy: 0.8489\n",
      "Epoch 17/20\n",
      "470/470 [==============================] - 0s 81us/sample - loss: 0.4590 - accuracy: 0.8362\n",
      "Epoch 18/20\n",
      "470/470 [==============================] - 0s 81us/sample - loss: 0.4460 - accuracy: 0.8468\n",
      "Epoch 19/20\n",
      "470/470 [==============================] - 0s 81us/sample - loss: 0.4724 - accuracy: 0.8362\n",
      "Epoch 20/20\n",
      "470/470 [==============================] - 0s 83us/sample - loss: 0.4776 - accuracy: 0.8362\n"
     ]
    },
    {
     "data": {
      "text/plain": [
       "<tensorflow.python.keras.callbacks.History at 0x1eca0f845c8>"
      ]
     },
     "execution_count": 9,
     "metadata": {},
     "output_type": "execute_result"
    }
   ],
   "source": [
    "# 딥너링 실행\n",
    "model.fit(X, Y, epochs=20, batch_size=10)"
   ]
  },
  {
   "cell_type": "code",
   "execution_count": 10,
   "metadata": {},
   "outputs": [
    {
     "name": "stdout",
     "output_type": "stream",
     "text": [
      "470/470 - 0s - loss: 0.4189 - accuracy: 0.8511\n"
     ]
    },
    {
     "data": {
      "text/plain": [
       "0.85106385"
      ]
     },
     "execution_count": 10,
     "metadata": {},
     "output_type": "execute_result"
    }
   ],
   "source": [
    "model.evaluate(X, Y, verbose=2)[1]"
   ]
  },
  {
   "cell_type": "code",
   "execution_count": null,
   "metadata": {},
   "outputs": [],
   "source": []
  }
 ],
 "metadata": {
  "kernelspec": {
   "display_name": "Python 3",
   "language": "python",
   "name": "python3"
  },
  "language_info": {
   "codemirror_mode": {
    "name": "ipython",
    "version": 3
   },
   "file_extension": ".py",
   "mimetype": "text/x-python",
   "name": "python",
   "nbconvert_exporter": "python",
   "pygments_lexer": "ipython3",
   "version": "3.7.7"
  }
 },
 "nbformat": 4,
 "nbformat_minor": 4
}
