{
 "cells": [
  {
   "cell_type": "markdown",
   "metadata": {},
   "source": [
    "# LSTM을 이용한 텍스트 생성"
   ]
  },
  {
   "cell_type": "markdown",
   "metadata": {},
   "source": [
    "- 데이터 다운로드 캐글 New York Times Comments"
   ]
  },
  {
   "cell_type": "markdown",
   "metadata": {},
   "source": [
    "# 1. 데이터 전처리"
   ]
  },
  {
   "cell_type": "code",
   "execution_count": 6,
   "metadata": {},
   "outputs": [],
   "source": [
    "import numpy as np\n",
    "import pandas as pd\n",
    "from string import punctuation\n",
    "\n",
    "from tensorflow import keras\n",
    "from tensorflow.keras.preprocessing.text import Tokenizer\n",
    "from tensorflow.keras.preprocessing.sequence import pad_sequences\n",
    "from tensorflow.keras.utils import to_categorical"
   ]
  },
  {
   "cell_type": "code",
   "execution_count": 27,
   "metadata": {},
   "outputs": [
    {
     "data": {
      "text/html": [
       "<div>\n",
       "<style scoped>\n",
       "    .dataframe tbody tr th:only-of-type {\n",
       "        vertical-align: middle;\n",
       "    }\n",
       "\n",
       "    .dataframe tbody tr th {\n",
       "        vertical-align: top;\n",
       "    }\n",
       "\n",
       "    .dataframe thead th {\n",
       "        text-align: right;\n",
       "    }\n",
       "</style>\n",
       "<table border=\"1\" class=\"dataframe\">\n",
       "  <thead>\n",
       "    <tr style=\"text-align: right;\">\n",
       "      <th></th>\n",
       "      <th>articleID</th>\n",
       "      <th>articleWordCount</th>\n",
       "      <th>byline</th>\n",
       "      <th>documentType</th>\n",
       "      <th>headline</th>\n",
       "      <th>keywords</th>\n",
       "      <th>multimedia</th>\n",
       "      <th>newDesk</th>\n",
       "      <th>printPage</th>\n",
       "      <th>pubDate</th>\n",
       "      <th>sectionName</th>\n",
       "      <th>snippet</th>\n",
       "      <th>source</th>\n",
       "      <th>typeOfMaterial</th>\n",
       "      <th>webURL</th>\n",
       "    </tr>\n",
       "  </thead>\n",
       "  <tbody>\n",
       "    <tr>\n",
       "      <th>0</th>\n",
       "      <td>5adf6684068401528a2aa69b</td>\n",
       "      <td>781</td>\n",
       "      <td>By JOHN BRANCH</td>\n",
       "      <td>article</td>\n",
       "      <td>Former N.F.L. Cheerleadersâ Settlement Offer...</td>\n",
       "      <td>['Workplace Hazards and Violations', 'Football...</td>\n",
       "      <td>68</td>\n",
       "      <td>Sports</td>\n",
       "      <td>0</td>\n",
       "      <td>2018-04-24 17:16:49</td>\n",
       "      <td>Pro Football</td>\n",
       "      <td>âI understand that they could meet with us, ...</td>\n",
       "      <td>The New York Times</td>\n",
       "      <td>News</td>\n",
       "      <td>https://www.nytimes.com/2018/04/24/sports/foot...</td>\n",
       "    </tr>\n",
       "    <tr>\n",
       "      <th>1</th>\n",
       "      <td>5adf653f068401528a2aa697</td>\n",
       "      <td>656</td>\n",
       "      <td>By LISA FRIEDMAN</td>\n",
       "      <td>article</td>\n",
       "      <td>E.P.A. to Unveil a New Rule. Its Effect: Less ...</td>\n",
       "      <td>['Environmental Protection Agency', 'Pruitt, S...</td>\n",
       "      <td>68</td>\n",
       "      <td>Climate</td>\n",
       "      <td>0</td>\n",
       "      <td>2018-04-24 17:11:21</td>\n",
       "      <td>Unknown</td>\n",
       "      <td>The agency plans to publish a new regulation T...</td>\n",
       "      <td>The New York Times</td>\n",
       "      <td>News</td>\n",
       "      <td>https://www.nytimes.com/2018/04/24/climate/epa...</td>\n",
       "    </tr>\n",
       "    <tr>\n",
       "      <th>2</th>\n",
       "      <td>5adf4626068401528a2aa628</td>\n",
       "      <td>2427</td>\n",
       "      <td>By PETE WELLS</td>\n",
       "      <td>article</td>\n",
       "      <td>The New Noma, Explained</td>\n",
       "      <td>['Restaurants', 'Noma (Copenhagen, Restaurant)...</td>\n",
       "      <td>66</td>\n",
       "      <td>Dining</td>\n",
       "      <td>0</td>\n",
       "      <td>2018-04-24 14:58:44</td>\n",
       "      <td>Unknown</td>\n",
       "      <td>Whatâs it like to eat at the second incarnat...</td>\n",
       "      <td>The New York Times</td>\n",
       "      <td>News</td>\n",
       "      <td>https://www.nytimes.com/2018/04/24/dining/noma...</td>\n",
       "    </tr>\n",
       "    <tr>\n",
       "      <th>3</th>\n",
       "      <td>5adf40d2068401528a2aa619</td>\n",
       "      <td>626</td>\n",
       "      <td>By JULIE HIRSCHFELD DAVIS and PETER BAKER</td>\n",
       "      <td>article</td>\n",
       "      <td>Unknown</td>\n",
       "      <td>['Macron, Emmanuel (1977- )', 'Trump, Donald J...</td>\n",
       "      <td>68</td>\n",
       "      <td>Washington</td>\n",
       "      <td>0</td>\n",
       "      <td>2018-04-24 14:35:57</td>\n",
       "      <td>Europe</td>\n",
       "      <td>President Trump welcomed President Emmanuel Ma...</td>\n",
       "      <td>The New York Times</td>\n",
       "      <td>News</td>\n",
       "      <td>https://www.nytimes.com/2018/04/24/world/europ...</td>\n",
       "    </tr>\n",
       "    <tr>\n",
       "      <th>4</th>\n",
       "      <td>5adf3d64068401528a2aa60f</td>\n",
       "      <td>815</td>\n",
       "      <td>By IAN AUSTEN and DAN BILEFSKY</td>\n",
       "      <td>article</td>\n",
       "      <td>Unknown</td>\n",
       "      <td>['Toronto, Ontario, Attack (April, 2018)', 'Mu...</td>\n",
       "      <td>68</td>\n",
       "      <td>Foreign</td>\n",
       "      <td>0</td>\n",
       "      <td>2018-04-24 14:21:21</td>\n",
       "      <td>Canada</td>\n",
       "      <td>Alek Minassian, 25, a resident of Torontoâs ...</td>\n",
       "      <td>The New York Times</td>\n",
       "      <td>News</td>\n",
       "      <td>https://www.nytimes.com/2018/04/24/world/canad...</td>\n",
       "    </tr>\n",
       "  </tbody>\n",
       "</table>\n",
       "</div>"
      ],
      "text/plain": [
       "                  articleID  articleWordCount  \\\n",
       "0  5adf6684068401528a2aa69b               781   \n",
       "1  5adf653f068401528a2aa697               656   \n",
       "2  5adf4626068401528a2aa628              2427   \n",
       "3  5adf40d2068401528a2aa619               626   \n",
       "4  5adf3d64068401528a2aa60f               815   \n",
       "\n",
       "                                      byline documentType  \\\n",
       "0                             By JOHN BRANCH      article   \n",
       "1                           By LISA FRIEDMAN      article   \n",
       "2                              By PETE WELLS      article   \n",
       "3  By JULIE HIRSCHFELD DAVIS and PETER BAKER      article   \n",
       "4             By IAN AUSTEN and DAN BILEFSKY      article   \n",
       "\n",
       "                                            headline  \\\n",
       "0  Former N.F.L. Cheerleadersâ Settlement Offer...   \n",
       "1  E.P.A. to Unveil a New Rule. Its Effect: Less ...   \n",
       "2                            The New Noma, Explained   \n",
       "3                                            Unknown   \n",
       "4                                            Unknown   \n",
       "\n",
       "                                            keywords  multimedia     newDesk  \\\n",
       "0  ['Workplace Hazards and Violations', 'Football...          68      Sports   \n",
       "1  ['Environmental Protection Agency', 'Pruitt, S...          68     Climate   \n",
       "2  ['Restaurants', 'Noma (Copenhagen, Restaurant)...          66      Dining   \n",
       "3  ['Macron, Emmanuel (1977- )', 'Trump, Donald J...          68  Washington   \n",
       "4  ['Toronto, Ontario, Attack (April, 2018)', 'Mu...          68     Foreign   \n",
       "\n",
       "   printPage              pubDate   sectionName  \\\n",
       "0          0  2018-04-24 17:16:49  Pro Football   \n",
       "1          0  2018-04-24 17:11:21       Unknown   \n",
       "2          0  2018-04-24 14:58:44       Unknown   \n",
       "3          0  2018-04-24 14:35:57        Europe   \n",
       "4          0  2018-04-24 14:21:21        Canada   \n",
       "\n",
       "                                             snippet              source  \\\n",
       "0  âI understand that they could meet with us, ...  The New York Times   \n",
       "1  The agency plans to publish a new regulation T...  The New York Times   \n",
       "2  Whatâs it like to eat at the second incarnat...  The New York Times   \n",
       "3  President Trump welcomed President Emmanuel Ma...  The New York Times   \n",
       "4  Alek Minassian, 25, a resident of Torontoâs ...  The New York Times   \n",
       "\n",
       "  typeOfMaterial                                             webURL  \n",
       "0           News  https://www.nytimes.com/2018/04/24/sports/foot...  \n",
       "1           News  https://www.nytimes.com/2018/04/24/climate/epa...  \n",
       "2           News  https://www.nytimes.com/2018/04/24/dining/noma...  \n",
       "3           News  https://www.nytimes.com/2018/04/24/world/europ...  \n",
       "4           News  https://www.nytimes.com/2018/04/24/world/canad...  "
      ]
     },
     "execution_count": 27,
     "metadata": {},
     "output_type": "execute_result"
    }
   ],
   "source": [
    "df = pd.read_csv('data/ArticlesApril2018.csv', encoding='latin')\n",
    "df.head()"
   ]
  },
  {
   "cell_type": "code",
   "execution_count": 61,
   "metadata": {},
   "outputs": [
    {
     "name": "stdout",
     "output_type": "stream",
     "text": [
      "열의 개수: 15\n",
      "Index(['articleID', 'articleWordCount', 'byline', 'documentType', 'headline',\n",
      "       'keywords', 'multimedia', 'newDesk', 'printPage', 'pubDate',\n",
      "       'sectionName', 'snippet', 'source', 'typeOfMaterial', 'webURL'],\n",
      "      dtype='object')\n"
     ]
    }
   ],
   "source": [
    "print('열의 개수:', len(df.columns))\n",
    "print(df.columns)"
   ]
  },
  {
   "cell_type": "code",
   "execution_count": 62,
   "metadata": {},
   "outputs": [
    {
     "data": {
      "text/plain": [
       "False"
      ]
     },
     "execution_count": 62,
     "metadata": {},
     "output_type": "execute_result"
    }
   ],
   "source": [
    "# headline 열의 데이터로 리스트 생성 null 검사\n",
    "df['headline'].isnull().values.any()"
   ]
  },
  {
   "cell_type": "code",
   "execution_count": 63,
   "metadata": {},
   "outputs": [
    {
     "data": {
      "text/plain": [
       "['Former N.F.L. Cheerleadersâ\\x80\\x99 Settlement Offer: $1 and a Meeting With Goodell',\n",
       " 'E.P.A. to Unveil a New Rule. Its Effect: Less Science in Policymaking.',\n",
       " 'The New Noma, Explained',\n",
       " 'Unknown',\n",
       " 'Unknown']"
      ]
     },
     "execution_count": 63,
     "metadata": {},
     "output_type": "execute_result"
    }
   ],
   "source": [
    "# headline 열의 데이터로 리스트 생성\n",
    "headline = [title for title in df.headline.values]\n",
    "headline[:5]"
   ]
  },
  {
   "cell_type": "code",
   "execution_count": 64,
   "metadata": {},
   "outputs": [
    {
     "data": {
      "text/plain": [
       "1324"
      ]
     },
     "execution_count": 64,
     "metadata": {},
     "output_type": "execute_result"
    }
   ],
   "source": [
    "len(headline)"
   ]
  },
  {
   "cell_type": "code",
   "execution_count": 65,
   "metadata": {},
   "outputs": [
    {
     "data": {
      "text/plain": [
       "1214"
      ]
     },
     "execution_count": 65,
     "metadata": {},
     "output_type": "execute_result"
    }
   ],
   "source": [
    "# 노이즈 데이터('Unknown') 제거\n",
    "headline = [title for title in headline if title != 'Unknown']\n",
    "#headline\n",
    "len(headline)"
   ]
  },
  {
   "cell_type": "code",
   "execution_count": 66,
   "metadata": {},
   "outputs": [],
   "source": [
    "# 구두점 제거와 소문자화를 위한 함수\n",
    "def repreprocessing(s):\n",
    "    s = s.encode('utf8').decode('ascii','ignore')\n",
    "    return ''.join(c for c in s if c not in punctuation). lower()"
   ]
  },
  {
   "cell_type": "code",
   "execution_count": 67,
   "metadata": {},
   "outputs": [
    {
     "data": {
      "text/plain": [
       "['former nfl cheerleaders settlement offer 1 and a meeting with goodell',\n",
       " 'epa to unveil a new rule its effect less science in policymaking',\n",
       " 'the new noma explained',\n",
       " 'how a bag of texas dirt  became a times tradition',\n",
       " 'is school a place for selfexpression']"
      ]
     },
     "execution_count": 67,
     "metadata": {},
     "output_type": "execute_result"
    }
   ],
   "source": [
    "text = [repreprocessing(x) for x in headline]\n",
    "text[:5]"
   ]
  },
  {
   "cell_type": "code",
   "execution_count": 68,
   "metadata": {},
   "outputs": [
    {
     "name": "stdout",
     "output_type": "stream",
     "text": [
      "단어 집합의 크기 : 3494\n"
     ]
    }
   ],
   "source": [
    "# 단어 집합(vocabulary)을 만들고 크기를 확인\n",
    "t = Tokenizer()\n",
    "t.fit_on_texts(text)\n",
    "vocab_size = len(t.word_index) + 1\n",
    "print('단어 집합의 크기 : %d' % vocab_size)"
   ]
  },
  {
   "cell_type": "code",
   "execution_count": 69,
   "metadata": {},
   "outputs": [
    {
     "data": {
      "text/plain": [
       "[[99, 269],\n",
       " [99, 269, 371],\n",
       " [99, 269, 371, 1115],\n",
       " [99, 269, 371, 1115, 582],\n",
       " [99, 269, 371, 1115, 582, 52],\n",
       " [99, 269, 371, 1115, 582, 52, 7],\n",
       " [99, 269, 371, 1115, 582, 52, 7, 2],\n",
       " [99, 269, 371, 1115, 582, 52, 7, 2, 372],\n",
       " [99, 269, 371, 1115, 582, 52, 7, 2, 372, 10],\n",
       " [99, 269, 371, 1115, 582, 52, 7, 2, 372, 10, 1116],\n",
       " [100, 3]]"
      ]
     },
     "execution_count": 69,
     "metadata": {},
     "output_type": "execute_result"
    }
   ],
   "source": [
    "sequences = []\n",
    "for line in text: # 1.214 개의 샘플에 대해서 샘플을 1개식 가져온다.\n",
    "    encoded = t.texts_to_sequences([line])[0] # 각 샘플에 대한 정수 인코딩\n",
    "    for i in range(1, len(encoded)):\n",
    "        sequence = encoded[:i+1]\n",
    "        sequences.append(sequence)\n",
    "        \n",
    "sequences[:11] # 11개의 샘플 출력"
   ]
  },
  {
   "cell_type": "code",
   "execution_count": 70,
   "metadata": {},
   "outputs": [
    {
     "name": "stdout",
     "output_type": "stream",
     "text": [
      "빈도수 상위 1번 단어: the\n",
      "빈도수 상위 582번 단어: offer\n"
     ]
    }
   ],
   "source": [
    "index_to_word = {}\n",
    "for key, value in t.word_index.items(): # 인덱스 단어를 바꾸기 위해 index_to_word를 생성\n",
    "    index_to_word[value] = key\n",
    "    \n",
    "print('빈도수 상위 1번 단어:', index_to_word[1])\n",
    "print('빈도수 상위 582번 단어:', index_to_word[582])"
   ]
  },
  {
   "cell_type": "code",
   "execution_count": 71,
   "metadata": {},
   "outputs": [
    {
     "name": "stdout",
     "output_type": "stream",
     "text": [
      "샘플의 최대 길이: 24\n"
     ]
    }
   ],
   "source": [
    "max_len=max(len(s) for s in sequences)\n",
    "print('샘플의 최대 길이:', max_len)"
   ]
  },
  {
   "cell_type": "code",
   "execution_count": 72,
   "metadata": {},
   "outputs": [
    {
     "name": "stdout",
     "output_type": "stream",
     "text": [
      "[[   0    0    0    0    0    0    0    0    0    0    0    0    0    0\n",
      "     0    0    0    0    0    0    0    0   99  269]\n",
      " [   0    0    0    0    0    0    0    0    0    0    0    0    0    0\n",
      "     0    0    0    0    0    0    0   99  269  371]\n",
      " [   0    0    0    0    0    0    0    0    0    0    0    0    0    0\n",
      "     0    0    0    0    0    0   99  269  371 1115]]\n"
     ]
    }
   ],
   "source": [
    "# 전체 샘플의 길이를 24(가장 긴 샘플의 길이)로 패딩\n",
    "# 'pre' 옵션을 주면 앞을 0으로 패딩\n",
    "sequences = pad_sequences(sequences, maxlen=max_len, padding='pre')\n",
    "print(sequences[:3])"
   ]
  },
  {
   "cell_type": "code",
   "execution_count": 79,
   "metadata": {},
   "outputs": [],
   "source": [
    "x = sequences[:,:-1]\n",
    "y = sequences[:,-1]"
   ]
  },
  {
   "cell_type": "code",
   "execution_count": 80,
   "metadata": {},
   "outputs": [],
   "source": [
    "# 레이블 데이터 y에 대해서 원-핫 인코딩을 수행\n",
    "y = to_categorical(y, num_classes=vocab_size)"
   ]
  },
  {
   "cell_type": "code",
   "execution_count": 81,
   "metadata": {},
   "outputs": [
    {
     "data": {
      "text/plain": [
       "((7803, 23), (7803, 3494))"
      ]
     },
     "execution_count": 81,
     "metadata": {},
     "output_type": "execute_result"
    }
   ],
   "source": [
    "x.shape, y.shape"
   ]
  },
  {
   "cell_type": "markdown",
   "metadata": {},
   "source": [
    "# 2.모델 설계 및 학습"
   ]
  },
  {
   "cell_type": "code",
   "execution_count": 88,
   "metadata": {},
   "outputs": [],
   "source": [
    "from tensorflow import keras\n",
    "from tensorflow.keras.models import Sequential\n",
    "from tensorflow.keras.layers import Embedding, Dense, LSTM"
   ]
  },
  {
   "cell_type": "code",
   "execution_count": 89,
   "metadata": {},
   "outputs": [
    {
     "name": "stdout",
     "output_type": "stream",
     "text": [
      "Model: \"sequential_2\"\n",
      "_________________________________________________________________\n",
      "Layer (type)                 Output Shape              Param #   \n",
      "=================================================================\n",
      "Embedding_layer (Embedding)  (None, 23, 10)            34940     \n",
      "_________________________________________________________________\n",
      "LSTM_Layer (LSTM)            (None, 128)               71168     \n",
      "_________________________________________________________________\n",
      "Output_Layer (Dense)         (None, 3494)              450726    \n",
      "=================================================================\n",
      "Total params: 556,834\n",
      "Trainable params: 556,834\n",
      "Non-trainable params: 0\n",
      "_________________________________________________________________\n"
     ]
    }
   ],
   "source": [
    "# 임베딩 벡터는 10차원, 은닉 상태 크기는 128\n",
    "model = Sequential()\n",
    "model.add(Embedding(vocab_size, 10, input_length=max_len-1, name='Embedding_layer'))\n",
    "model.add(LSTM(128, name='LSTM_Layer'))\n",
    "model.add(Dense(vocab_size, activation='softmax', name='Output_Layer'))\n",
    "model.summary()"
   ]
  },
  {
   "cell_type": "code",
   "execution_count": 90,
   "metadata": {},
   "outputs": [],
   "source": [
    "model.compile(loss = 'categorical_crossentropy',\n",
    "             optimizer='adam', metrics=['accuracy'])"
   ]
  },
  {
   "cell_type": "code",
   "execution_count": 91,
   "metadata": {
    "scrolled": true
   },
   "outputs": [
    {
     "name": "stdout",
     "output_type": "stream",
     "text": [
      "Train on 7803 samples\n",
      "Epoch 1/200\n",
      "7803/7803 - 5s - loss: 7.6468 - accuracy: 0.0260\n",
      "Epoch 2/200\n",
      "7803/7803 - 4s - loss: 7.1110 - accuracy: 0.0315\n",
      "Epoch 3/200\n",
      "7803/7803 - 3s - loss: 6.9776 - accuracy: 0.0331\n",
      "Epoch 4/200\n",
      "7803/7803 - 3s - loss: 6.8446 - accuracy: 0.0404\n",
      "Epoch 5/200\n",
      "7803/7803 - 3s - loss: 6.6874 - accuracy: 0.0440\n",
      "Epoch 6/200\n",
      "7803/7803 - 3s - loss: 6.5088 - accuracy: 0.0493\n",
      "Epoch 7/200\n",
      "7803/7803 - 3s - loss: 6.3106 - accuracy: 0.0543\n",
      "Epoch 8/200\n",
      "7803/7803 - 3s - loss: 6.1064 - accuracy: 0.0578\n",
      "Epoch 9/200\n",
      "7803/7803 - 3s - loss: 5.9120 - accuracy: 0.0639\n",
      "Epoch 10/200\n",
      "7803/7803 - 3s - loss: 5.7290 - accuracy: 0.0697\n",
      "Epoch 11/200\n",
      "7803/7803 - 3s - loss: 5.5564 - accuracy: 0.0702\n",
      "Epoch 12/200\n",
      "7803/7803 - 3s - loss: 5.3938 - accuracy: 0.0765\n",
      "Epoch 13/200\n",
      "7803/7803 - 3s - loss: 5.2360 - accuracy: 0.0839\n",
      "Epoch 14/200\n",
      "7803/7803 - 3s - loss: 5.0857 - accuracy: 0.0905\n",
      "Epoch 15/200\n",
      "7803/7803 - 3s - loss: 4.9455 - accuracy: 0.0971\n",
      "Epoch 16/200\n",
      "7803/7803 - 3s - loss: 4.8055 - accuracy: 0.1050\n",
      "Epoch 17/200\n",
      "7803/7803 - 3s - loss: 4.6703 - accuracy: 0.1244\n",
      "Epoch 18/200\n",
      "7803/7803 - 3s - loss: 4.5411 - accuracy: 0.1366\n",
      "Epoch 19/200\n",
      "7803/7803 - 3s - loss: 4.4141 - accuracy: 0.1529\n",
      "Epoch 20/200\n",
      "7803/7803 - 3s - loss: 4.2923 - accuracy: 0.1702\n",
      "Epoch 21/200\n",
      "7803/7803 - 3s - loss: 4.1768 - accuracy: 0.1886\n",
      "Epoch 22/200\n",
      "7803/7803 - 3s - loss: 4.0608 - accuracy: 0.2012\n",
      "Epoch 23/200\n",
      "7803/7803 - 3s - loss: 3.9506 - accuracy: 0.2203\n",
      "Epoch 24/200\n",
      "7803/7803 - 3s - loss: 3.8440 - accuracy: 0.2352\n",
      "Epoch 25/200\n",
      "7803/7803 - 3s - loss: 3.7403 - accuracy: 0.2586\n",
      "Epoch 26/200\n",
      "7803/7803 - 3s - loss: 3.6408 - accuracy: 0.2714\n",
      "Epoch 27/200\n",
      "7803/7803 - 3s - loss: 3.5434 - accuracy: 0.2904\n",
      "Epoch 28/200\n",
      "7803/7803 - 3s - loss: 3.4506 - accuracy: 0.3065\n",
      "Epoch 29/200\n",
      "7803/7803 - 3s - loss: 3.3631 - accuracy: 0.3231\n",
      "Epoch 30/200\n",
      "7803/7803 - 3s - loss: 3.2739 - accuracy: 0.3378\n",
      "Epoch 31/200\n",
      "7803/7803 - 3s - loss: 3.1920 - accuracy: 0.3550\n",
      "Epoch 32/200\n",
      "7803/7803 - 3s - loss: 3.1131 - accuracy: 0.3697\n",
      "Epoch 33/200\n",
      "7803/7803 - 3s - loss: 3.0347 - accuracy: 0.3845\n",
      "Epoch 34/200\n",
      "7803/7803 - 3s - loss: 2.9608 - accuracy: 0.4000\n",
      "Epoch 35/200\n",
      "7803/7803 - 3s - loss: 2.8909 - accuracy: 0.4133\n",
      "Epoch 36/200\n",
      "7803/7803 - 3s - loss: 2.8235 - accuracy: 0.4207\n",
      "Epoch 37/200\n",
      "7803/7803 - 3s - loss: 2.7555 - accuracy: 0.4375\n",
      "Epoch 38/200\n",
      "7803/7803 - 3s - loss: 2.6921 - accuracy: 0.4443\n",
      "Epoch 39/200\n",
      "7803/7803 - 3s - loss: 2.6299 - accuracy: 0.4619\n",
      "Epoch 40/200\n",
      "7803/7803 - 3s - loss: 2.5691 - accuracy: 0.4701\n",
      "Epoch 41/200\n",
      "7803/7803 - 3s - loss: 2.5115 - accuracy: 0.4829\n",
      "Epoch 42/200\n",
      "7803/7803 - 3s - loss: 2.4534 - accuracy: 0.4960\n",
      "Epoch 43/200\n",
      "7803/7803 - 3s - loss: 2.3955 - accuracy: 0.5071\n",
      "Epoch 44/200\n",
      "7803/7803 - 3s - loss: 2.3471 - accuracy: 0.5165\n",
      "Epoch 45/200\n",
      "7803/7803 - 3s - loss: 2.2935 - accuracy: 0.5318\n",
      "Epoch 46/200\n",
      "7803/7803 - 3s - loss: 2.2437 - accuracy: 0.5397\n",
      "Epoch 47/200\n",
      "7803/7803 - 3s - loss: 2.1899 - accuracy: 0.5517\n",
      "Epoch 48/200\n",
      "7803/7803 - 3s - loss: 2.1431 - accuracy: 0.5622\n",
      "Epoch 49/200\n",
      "7803/7803 - 3s - loss: 2.0957 - accuracy: 0.5694\n",
      "Epoch 50/200\n",
      "7803/7803 - 3s - loss: 2.0503 - accuracy: 0.5799\n",
      "Epoch 51/200\n",
      "7803/7803 - 3s - loss: 2.0020 - accuracy: 0.5917\n",
      "Epoch 52/200\n",
      "7803/7803 - 3s - loss: 1.9602 - accuracy: 0.6019\n",
      "Epoch 53/200\n",
      "7803/7803 - 3s - loss: 1.9178 - accuracy: 0.6084\n",
      "Epoch 54/200\n",
      "7803/7803 - 3s - loss: 1.8721 - accuracy: 0.6178\n",
      "Epoch 55/200\n",
      "7803/7803 - 3s - loss: 1.8306 - accuracy: 0.6332\n",
      "Epoch 56/200\n",
      "7803/7803 - 3s - loss: 1.7900 - accuracy: 0.6407\n",
      "Epoch 57/200\n",
      "7803/7803 - 3s - loss: 1.7521 - accuracy: 0.6468\n",
      "Epoch 58/200\n",
      "7803/7803 - 3s - loss: 1.7128 - accuracy: 0.6515\n",
      "Epoch 59/200\n",
      "7803/7803 - 3s - loss: 1.6732 - accuracy: 0.6615\n",
      "Epoch 60/200\n",
      "7803/7803 - 3s - loss: 1.6371 - accuracy: 0.6706\n",
      "Epoch 61/200\n",
      "7803/7803 - 3s - loss: 1.5994 - accuracy: 0.6768\n",
      "Epoch 62/200\n",
      "7803/7803 - 3s - loss: 1.5653 - accuracy: 0.6849\n",
      "Epoch 63/200\n",
      "7803/7803 - 3s - loss: 1.5281 - accuracy: 0.6908\n",
      "Epoch 64/200\n",
      "7803/7803 - 3s - loss: 1.4952 - accuracy: 0.6986\n",
      "Epoch 65/200\n",
      "7803/7803 - 3s - loss: 1.4635 - accuracy: 0.7055\n",
      "Epoch 66/200\n",
      "7803/7803 - 3s - loss: 1.4317 - accuracy: 0.7141\n",
      "Epoch 67/200\n",
      "7803/7803 - 3s - loss: 1.3995 - accuracy: 0.7154\n",
      "Epoch 68/200\n",
      "7803/7803 - 3s - loss: 1.3708 - accuracy: 0.7252\n",
      "Epoch 69/200\n",
      "7803/7803 - 3s - loss: 1.3370 - accuracy: 0.7286\n",
      "Epoch 70/200\n",
      "7803/7803 - 3s - loss: 1.3078 - accuracy: 0.7366\n",
      "Epoch 71/200\n",
      "7803/7803 - 3s - loss: 1.2801 - accuracy: 0.7438\n",
      "Epoch 72/200\n",
      "7803/7803 - 3s - loss: 1.2506 - accuracy: 0.7459\n",
      "Epoch 73/200\n",
      "7803/7803 - 3s - loss: 1.2244 - accuracy: 0.7562\n",
      "Epoch 74/200\n",
      "7803/7803 - 3s - loss: 1.1991 - accuracy: 0.7586\n",
      "Epoch 75/200\n",
      "7803/7803 - 3s - loss: 1.1718 - accuracy: 0.7651\n",
      "Epoch 76/200\n",
      "7803/7803 - 3s - loss: 1.1462 - accuracy: 0.7687\n",
      "Epoch 77/200\n",
      "7803/7803 - 3s - loss: 1.1175 - accuracy: 0.7757\n",
      "Epoch 78/200\n",
      "7803/7803 - 3s - loss: 1.0942 - accuracy: 0.7774\n",
      "Epoch 79/200\n",
      "7803/7803 - 3s - loss: 1.0700 - accuracy: 0.7850\n",
      "Epoch 80/200\n",
      "7803/7803 - 3s - loss: 1.0447 - accuracy: 0.7891\n",
      "Epoch 81/200\n",
      "7803/7803 - 3s - loss: 1.0203 - accuracy: 0.7984\n",
      "Epoch 82/200\n",
      "7803/7803 - 3s - loss: 0.9987 - accuracy: 0.8023\n",
      "Epoch 83/200\n",
      "7803/7803 - 3s - loss: 0.9753 - accuracy: 0.8038\n",
      "Epoch 84/200\n",
      "7803/7803 - 3s - loss: 0.9587 - accuracy: 0.8093\n",
      "Epoch 85/200\n",
      "7803/7803 - 3s - loss: 0.9326 - accuracy: 0.8172\n",
      "Epoch 86/200\n",
      "7803/7803 - 3s - loss: 0.9119 - accuracy: 0.8185\n",
      "Epoch 87/200\n",
      "7803/7803 - 3s - loss: 0.8932 - accuracy: 0.8234\n",
      "Epoch 88/200\n",
      "7803/7803 - 3s - loss: 0.8737 - accuracy: 0.8251\n",
      "Epoch 89/200\n",
      "7803/7803 - 3s - loss: 0.8552 - accuracy: 0.8283\n",
      "Epoch 90/200\n",
      "7803/7803 - 3s - loss: 0.8341 - accuracy: 0.8325\n",
      "Epoch 91/200\n",
      "7803/7803 - 3s - loss: 0.8150 - accuracy: 0.8372\n",
      "Epoch 92/200\n",
      "7803/7803 - 3s - loss: 0.7986 - accuracy: 0.8415\n",
      "Epoch 93/200\n",
      "7803/7803 - 3s - loss: 0.7810 - accuracy: 0.8433\n",
      "Epoch 94/200\n",
      "7803/7803 - 3s - loss: 0.7648 - accuracy: 0.8470\n",
      "Epoch 95/200\n",
      "7803/7803 - 3s - loss: 0.7496 - accuracy: 0.8525\n",
      "Epoch 96/200\n",
      "7803/7803 - 3s - loss: 0.7329 - accuracy: 0.8506\n",
      "Epoch 97/200\n",
      "7803/7803 - 3s - loss: 0.7146 - accuracy: 0.8567\n",
      "Epoch 98/200\n",
      "7803/7803 - 3s - loss: 0.7005 - accuracy: 0.8610\n",
      "Epoch 99/200\n",
      "7803/7803 - 3s - loss: 0.6894 - accuracy: 0.8642\n",
      "Epoch 100/200\n",
      "7803/7803 - 3s - loss: 0.6717 - accuracy: 0.8658\n",
      "Epoch 101/200\n",
      "7803/7803 - 3s - loss: 0.6620 - accuracy: 0.8677\n",
      "Epoch 102/200\n",
      "7803/7803 - 3s - loss: 0.6464 - accuracy: 0.8711\n",
      "Epoch 103/200\n",
      "7803/7803 - 3s - loss: 0.6299 - accuracy: 0.8733\n",
      "Epoch 104/200\n",
      "7803/7803 - 3s - loss: 0.6192 - accuracy: 0.8742\n",
      "Epoch 105/200\n",
      "7803/7803 - 3s - loss: 0.6060 - accuracy: 0.8789\n",
      "Epoch 106/200\n",
      "7803/7803 - 3s - loss: 0.5914 - accuracy: 0.8776\n",
      "Epoch 107/200\n",
      "7803/7803 - 3s - loss: 0.5818 - accuracy: 0.8813\n",
      "Epoch 108/200\n",
      "7803/7803 - 3s - loss: 0.5693 - accuracy: 0.8854\n",
      "Epoch 109/200\n",
      "7803/7803 - 3s - loss: 0.5589 - accuracy: 0.8866\n",
      "Epoch 110/200\n",
      "7803/7803 - 3s - loss: 0.5485 - accuracy: 0.8871\n",
      "Epoch 111/200\n",
      "7803/7803 - 3s - loss: 0.5378 - accuracy: 0.8880\n",
      "Epoch 112/200\n",
      "7803/7803 - 3s - loss: 0.5258 - accuracy: 0.8900\n",
      "Epoch 113/200\n",
      "7803/7803 - 3s - loss: 0.5185 - accuracy: 0.8915\n",
      "Epoch 114/200\n",
      "7803/7803 - 3s - loss: 0.5077 - accuracy: 0.8945\n",
      "Epoch 115/200\n",
      "7803/7803 - 3s - loss: 0.4967 - accuracy: 0.8958\n",
      "Epoch 116/200\n",
      "7803/7803 - 3s - loss: 0.4895 - accuracy: 0.8968\n",
      "Epoch 117/200\n",
      "7803/7803 - 3s - loss: 0.4788 - accuracy: 0.8980\n",
      "Epoch 118/200\n",
      "7803/7803 - 3s - loss: 0.4718 - accuracy: 0.9009\n",
      "Epoch 119/200\n",
      "7803/7803 - 3s - loss: 0.4660 - accuracy: 0.9003\n",
      "Epoch 120/200\n",
      "7803/7803 - 3s - loss: 0.4565 - accuracy: 0.9031\n",
      "Epoch 121/200\n",
      "7803/7803 - 3s - loss: 0.4482 - accuracy: 0.9034\n",
      "Epoch 122/200\n",
      "7803/7803 - 3s - loss: 0.4398 - accuracy: 0.9054\n",
      "Epoch 123/200\n",
      "7803/7803 - 3s - loss: 0.4350 - accuracy: 0.9032\n",
      "Epoch 124/200\n",
      "7803/7803 - 3s - loss: 0.4275 - accuracy: 0.9049\n",
      "Epoch 125/200\n",
      "7803/7803 - 3s - loss: 0.4199 - accuracy: 0.9070\n",
      "Epoch 126/200\n",
      "7803/7803 - 3s - loss: 0.4133 - accuracy: 0.9061\n",
      "Epoch 127/200\n",
      "7803/7803 - 3s - loss: 0.4110 - accuracy: 0.9066\n",
      "Epoch 128/200\n",
      "7803/7803 - 3s - loss: 0.4049 - accuracy: 0.9084\n",
      "Epoch 129/200\n",
      "7803/7803 - 3s - loss: 0.3961 - accuracy: 0.9091\n",
      "Epoch 130/200\n",
      "7803/7803 - 3s - loss: 0.3907 - accuracy: 0.9100\n",
      "Epoch 131/200\n",
      "7803/7803 - 3s - loss: 0.3862 - accuracy: 0.9104\n",
      "Epoch 132/200\n",
      "7803/7803 - 3s - loss: 0.3785 - accuracy: 0.9116\n"
     ]
    },
    {
     "name": "stdout",
     "output_type": "stream",
     "text": [
      "Epoch 133/200\n",
      "7803/7803 - 3s - loss: 0.3766 - accuracy: 0.9114\n",
      "Epoch 134/200\n",
      "7803/7803 - 3s - loss: 0.3702 - accuracy: 0.9125\n",
      "Epoch 135/200\n",
      "7803/7803 - 3s - loss: 0.3663 - accuracy: 0.9127\n",
      "Epoch 136/200\n",
      "7803/7803 - 3s - loss: 0.3667 - accuracy: 0.9113\n",
      "Epoch 137/200\n",
      "7803/7803 - 3s - loss: 0.3581 - accuracy: 0.9129\n",
      "Epoch 138/200\n",
      "7803/7803 - 3s - loss: 0.3521 - accuracy: 0.9135\n",
      "Epoch 139/200\n",
      "7803/7803 - 3s - loss: 0.3482 - accuracy: 0.9146\n",
      "Epoch 140/200\n",
      "7803/7803 - 3s - loss: 0.3451 - accuracy: 0.9132\n",
      "Epoch 141/200\n",
      "7803/7803 - 3s - loss: 0.3401 - accuracy: 0.9154\n",
      "Epoch 142/200\n",
      "7803/7803 - 3s - loss: 0.3373 - accuracy: 0.9144\n",
      "Epoch 143/200\n",
      "7803/7803 - 3s - loss: 0.3350 - accuracy: 0.9144\n",
      "Epoch 144/200\n",
      "7803/7803 - 3s - loss: 0.3315 - accuracy: 0.9149\n",
      "Epoch 145/200\n",
      "7803/7803 - 3s - loss: 0.3304 - accuracy: 0.9172\n",
      "Epoch 146/200\n",
      "7803/7803 - 3s - loss: 0.3272 - accuracy: 0.9158\n",
      "Epoch 147/200\n",
      "7803/7803 - 3s - loss: 0.3229 - accuracy: 0.9154\n",
      "Epoch 148/200\n",
      "7803/7803 - 3s - loss: 0.3197 - accuracy: 0.9143\n",
      "Epoch 149/200\n",
      "7803/7803 - 3s - loss: 0.3206 - accuracy: 0.9146\n",
      "Epoch 150/200\n",
      "7803/7803 - 3s - loss: 0.3157 - accuracy: 0.9148\n",
      "Epoch 151/200\n",
      "7803/7803 - 3s - loss: 0.3146 - accuracy: 0.9161\n",
      "Epoch 152/200\n",
      "7803/7803 - 3s - loss: 0.3120 - accuracy: 0.9167\n",
      "Epoch 153/200\n",
      "7803/7803 - 3s - loss: 0.3086 - accuracy: 0.9170\n",
      "Epoch 154/200\n",
      "7803/7803 - 3s - loss: 0.3046 - accuracy: 0.9181\n",
      "Epoch 155/200\n",
      "7803/7803 - 3s - loss: 0.3044 - accuracy: 0.9162\n",
      "Epoch 156/200\n",
      "7803/7803 - 3s - loss: 0.3015 - accuracy: 0.9148\n",
      "Epoch 157/200\n",
      "7803/7803 - 3s - loss: 0.3008 - accuracy: 0.9158\n",
      "Epoch 158/200\n",
      "7803/7803 - 3s - loss: 0.3007 - accuracy: 0.9157\n",
      "Epoch 159/200\n",
      "7803/7803 - 3s - loss: 0.3145 - accuracy: 0.9139\n",
      "Epoch 160/200\n",
      "7803/7803 - 3s - loss: 0.3036 - accuracy: 0.9170\n",
      "Epoch 161/200\n",
      "7803/7803 - 3s - loss: 0.2938 - accuracy: 0.9176\n",
      "Epoch 162/200\n",
      "7803/7803 - 3s - loss: 0.2922 - accuracy: 0.9162\n",
      "Epoch 163/200\n",
      "7803/7803 - 3s - loss: 0.2898 - accuracy: 0.9177\n",
      "Epoch 164/200\n",
      "7803/7803 - 3s - loss: 0.2883 - accuracy: 0.9167\n",
      "Epoch 165/200\n",
      "7803/7803 - 3s - loss: 0.2866 - accuracy: 0.9173\n",
      "Epoch 166/200\n",
      "7803/7803 - 3s - loss: 0.2862 - accuracy: 0.9175\n",
      "Epoch 167/200\n",
      "7803/7803 - 3s - loss: 0.2849 - accuracy: 0.9173\n",
      "Epoch 168/200\n",
      "7803/7803 - 3s - loss: 0.2841 - accuracy: 0.9157\n",
      "Epoch 169/200\n",
      "7803/7803 - 3s - loss: 0.2826 - accuracy: 0.9171\n",
      "Epoch 170/200\n",
      "7803/7803 - 3s - loss: 0.2818 - accuracy: 0.9166\n",
      "Epoch 171/200\n",
      "7803/7803 - 3s - loss: 0.2817 - accuracy: 0.9164\n",
      "Epoch 172/200\n",
      "7803/7803 - 3s - loss: 0.2798 - accuracy: 0.9149\n",
      "Epoch 173/200\n",
      "7803/7803 - 3s - loss: 0.2807 - accuracy: 0.9166\n",
      "Epoch 174/200\n",
      "7803/7803 - 3s - loss: 0.3205 - accuracy: 0.9103\n",
      "Epoch 175/200\n",
      "7803/7803 - 3s - loss: 0.3021 - accuracy: 0.9140\n",
      "Epoch 176/200\n",
      "7803/7803 - 3s - loss: 0.2806 - accuracy: 0.9179\n",
      "Epoch 177/200\n",
      "7803/7803 - 3s - loss: 0.2743 - accuracy: 0.9168\n",
      "Epoch 178/200\n",
      "7803/7803 - 3s - loss: 0.2740 - accuracy: 0.9181\n",
      "Epoch 179/200\n",
      "7803/7803 - 3s - loss: 0.2725 - accuracy: 0.9163\n",
      "Epoch 180/200\n",
      "7803/7803 - 3s - loss: 0.2716 - accuracy: 0.9171\n",
      "Epoch 181/200\n",
      "7803/7803 - 3s - loss: 0.2734 - accuracy: 0.9167\n",
      "Epoch 182/200\n",
      "7803/7803 - 3s - loss: 0.2713 - accuracy: 0.9167\n",
      "Epoch 183/200\n",
      "7803/7803 - 3s - loss: 0.2710 - accuracy: 0.9154\n",
      "Epoch 184/200\n",
      "7803/7803 - 3s - loss: 0.2715 - accuracy: 0.9157\n",
      "Epoch 185/200\n",
      "7803/7803 - 3s - loss: 0.2699 - accuracy: 0.9158\n",
      "Epoch 186/200\n",
      "7803/7803 - 3s - loss: 0.2695 - accuracy: 0.9166\n",
      "Epoch 187/200\n",
      "7803/7803 - 3s - loss: 0.2690 - accuracy: 0.9170\n",
      "Epoch 188/200\n",
      "7803/7803 - 3s - loss: 0.2689 - accuracy: 0.9172\n",
      "Epoch 189/200\n",
      "7803/7803 - 3s - loss: 0.2686 - accuracy: 0.9163\n",
      "Epoch 190/200\n",
      "7803/7803 - 3s - loss: 0.2694 - accuracy: 0.9154\n",
      "Epoch 191/200\n",
      "7803/7803 - 3s - loss: 0.2675 - accuracy: 0.9161\n",
      "Epoch 192/200\n",
      "7803/7803 - 3s - loss: 0.2671 - accuracy: 0.9162\n",
      "Epoch 193/200\n",
      "7803/7803 - 3s - loss: 0.2789 - accuracy: 0.9157\n",
      "Epoch 194/200\n",
      "7803/7803 - 3s - loss: 0.2769 - accuracy: 0.9158\n",
      "Epoch 195/200\n",
      "7803/7803 - 3s - loss: 0.2704 - accuracy: 0.9162\n",
      "Epoch 196/200\n",
      "7803/7803 - 3s - loss: 0.2666 - accuracy: 0.9179\n",
      "Epoch 197/200\n",
      "7803/7803 - 3s - loss: 0.2652 - accuracy: 0.9170\n",
      "Epoch 198/200\n",
      "7803/7803 - 3s - loss: 0.2645 - accuracy: 0.9171\n",
      "Epoch 199/200\n",
      "7803/7803 - 3s - loss: 0.2637 - accuracy: 0.9164\n",
      "Epoch 200/200\n",
      "7803/7803 - 3s - loss: 0.2637 - accuracy: 0.9163\n"
     ]
    }
   ],
   "source": [
    "history = model.fit(x, y, epochs=200, verbose=2)"
   ]
  },
  {
   "cell_type": "markdown",
   "metadata": {},
   "source": [
    "# 3. 모델 검증"
   ]
  },
  {
   "cell_type": "code",
   "execution_count": 104,
   "metadata": {},
   "outputs": [],
   "source": [
    "def sentence_generation(model, t, current_word, n): # 모델, 토크나이저, 현재 단어, 반복할 횟수\n",
    "    init_word = current_word # 처음 들어온 단어도 마지막에 같이 출력하기위해 저장\n",
    "    sentence = ''\n",
    "    for _ in range(n): # n번 반복\n",
    "        encoded = t.texts_to_sequences([current_word])[0] # 현재 단어에 대한 정수 인코딩\n",
    "        encoded = pad_sequences([encoded], maxlen=23, padding='pre') # 데이터에 대한 패딩\n",
    "        result = model.predict_classes(encoded, verbose=0)\n",
    "          # 입력한 X(현재 단어)에 대해서 y를 예측하고 y(예측한 단어)를 result에 저장.\n",
    "        for word, index in t.word_index.items(): \n",
    "            if index == result: # 만약 예측한 단어와 인덱스와 동일한 단어가 있다면\n",
    "                break # 해당 단어가 예측 단어이므로 break\n",
    "        current_word = current_word + ' '  + word # 현재 단어 + ' ' + 예측 단어를 현재 단어로 변경\n",
    "        sentence = sentence + ' ' + word # 예측 단어를 문장에 저장\n",
    "\n",
    "    sentence = init_word + sentence\n",
    "    return sentence"
   ]
  },
  {
   "cell_type": "code",
   "execution_count": 109,
   "metadata": {},
   "outputs": [
    {
     "name": "stdout",
     "output_type": "stream",
     "text": [
      "i cant jump ship from facebook yet we attack hes say\n"
     ]
    }
   ],
   "source": [
    "# 임의의 단어 'i'에 대해서 10개의 단어를 추가 생성\n",
    "print(sentence_generation(model, t, 'i', 10))"
   ]
  },
  {
   "cell_type": "code",
   "execution_count": 107,
   "metadata": {},
   "outputs": [
    {
     "name": "stdout",
     "output_type": "stream",
     "text": [
      "how to make facebook more accountable and live in the key\n"
     ]
    }
   ],
   "source": [
    "print(sentence_generation(model, t, 'how', 10))"
   ]
  },
  {
   "cell_type": "code",
   "execution_count": 110,
   "metadata": {},
   "outputs": [
    {
     "name": "stdout",
     "output_type": "stream",
     "text": [
      "former playboy model is free to discuss alleged affair that king\n"
     ]
    }
   ],
   "source": [
    "print(sentence_generation(model, t, 'former', 10))"
   ]
  },
  {
   "cell_type": "code",
   "execution_count": null,
   "metadata": {},
   "outputs": [],
   "source": []
  }
 ],
 "metadata": {
  "kernelspec": {
   "display_name": "Python 3",
   "language": "python",
   "name": "python3"
  },
  "language_info": {
   "codemirror_mode": {
    "name": "ipython",
    "version": 3
   },
   "file_extension": ".py",
   "mimetype": "text/x-python",
   "name": "python",
   "nbconvert_exporter": "python",
   "pygments_lexer": "ipython3",
   "version": "3.7.7"
  }
 },
 "nbformat": 4,
 "nbformat_minor": 4
}
