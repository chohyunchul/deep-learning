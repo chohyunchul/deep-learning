{
 "cells": [
  {
   "cell_type": "markdown",
   "metadata": {},
   "source": [
    "# 순환 신경망 - 나비야"
   ]
  },
  {
   "cell_type": "markdown",
   "metadata": {},
   "source": [
    "## 출처 : 순환 신경망 모델 만들어보기"
   ]
  },
  {
   "cell_type": "markdown",
   "metadata": {},
   "source": [
    "## 상태유지 LSTM 모델\n",
    "- 상태유지 모드에서는 현재 샘플의 학습 상태가 다음 샘플의 초기 상태로 전달된다."
   ]
  },
  {
   "cell_type": "code",
   "execution_count": 3,
   "metadata": {},
   "outputs": [],
   "source": [
    "# 사용할 패키지 불러오기\n",
    "import numpy as np\n",
    "from tensorflow.keras.models import Sequential\n",
    "from tensorflow.keras.layers import Dense, LSTM\n",
    "from tensorflow.keras.utils import to_categorical\n",
    "from tensorflow.keras.callbacks import Callback"
   ]
  },
  {
   "cell_type": "code",
   "execution_count": 4,
   "metadata": {},
   "outputs": [],
   "source": [
    "# 랜덤시드 고정시키기\n",
    "np.random.seed(5)"
   ]
  },
  {
   "cell_type": "code",
   "execution_count": 5,
   "metadata": {},
   "outputs": [],
   "source": [
    "# 데이터셋 생성 함수        \n",
    "def seq2dataset(seq, window_size):\n",
    "    dataset = []\n",
    "    for i in range(len(seq)-window_size):\n",
    "        subset = seq[i:(i+window_size+1)]\n",
    "        dataset.append([code2idx[item] for item in subset])\n",
    "    return np.array(dataset)"
   ]
  },
  {
   "cell_type": "code",
   "execution_count": 6,
   "metadata": {},
   "outputs": [],
   "source": [
    "# 데이터 준비하기\n",
    "\n",
    "# 코드 사전 정의\n",
    "code2idx = {'c4':0, 'd4':1, 'e4':2, 'f4':3, 'g4':4, 'a4':5, 'b4':6,\n",
    "            'c8':7, 'd8':8, 'e8':9, 'f8':10, 'g8':11, 'a8':12, 'b8':13}\n",
    "idx2code = {0:'c4', 1:'d4', 2:'e4', 3:'f4', 4:'g4', 5:'a4', 6:'b4',\n",
    "            7:'c8', 8:'d8', 9:'e8', 10:'f8', 11:'g8', 12:'a8', 13:'b8'}"
   ]
  },
  {
   "cell_type": "code",
   "execution_count": 7,
   "metadata": {},
   "outputs": [],
   "source": [
    "# 시퀀스 데이터 정의\n",
    "seq = ['g8', 'e8', 'e4', 'f8', 'd8', 'd4', 'c8', 'd8', 'e8', 'f8', 'g8', 'g8', 'g4',\n",
    "       'g8', 'e8', 'e8', 'e8', 'f8', 'd8', 'd4', 'c8', 'e8', 'g8', 'g8', 'e8', 'e8', 'e4',\n",
    "       'd8', 'd8', 'd8', 'd8', 'd8', 'e8', 'f4', 'e8', 'e8', 'e8', 'e8', 'e8', 'f8', 'g4',\n",
    "       'g8', 'e8', 'e4', 'f8', 'd8', 'd4', 'c8', 'e8', 'g8', 'g8', 'e8', 'e8', 'e4']"
   ]
  },
  {
   "cell_type": "code",
   "execution_count": 8,
   "metadata": {},
   "outputs": [
    {
     "data": {
      "text/plain": [
       "(50, 5)"
      ]
     },
     "execution_count": 8,
     "metadata": {},
     "output_type": "execute_result"
    }
   ],
   "source": [
    "# 데이터셋 생성하기\n",
    "dataset = seq2dataset(seq, window_size = 4)\n",
    "dataset.shape"
   ]
  },
  {
   "cell_type": "code",
   "execution_count": 9,
   "metadata": {},
   "outputs": [],
   "source": [
    "# 입력(X)과 출력(Y) 변수로 분리하기\n",
    "x_train = dataset[:,0:4]\n",
    "y_train = dataset[:,4]\n",
    "\n",
    "MAX_IDX_VALUE = 13"
   ]
  },
  {
   "cell_type": "code",
   "execution_count": 10,
   "metadata": {},
   "outputs": [
    {
     "data": {
      "text/plain": [
       "(50, 4)"
      ]
     },
     "execution_count": 10,
     "metadata": {},
     "output_type": "execute_result"
    }
   ],
   "source": [
    "# 입력값 정규화 시키기\n",
    "x_train = x_train / float(MAX_IDX_VALUE)\n",
    "x_train.shape"
   ]
  },
  {
   "cell_type": "code",
   "execution_count": 11,
   "metadata": {},
   "outputs": [],
   "source": [
    "# 입력을 (샘플 수, 타입스텝, 특성 수)로 형태 변환\n",
    "x_train = np.reshape(x_train, (50, 4, 1))"
   ]
  },
  {
   "cell_type": "code",
   "execution_count": 12,
   "metadata": {},
   "outputs": [
    {
     "data": {
      "text/plain": [
       "12"
      ]
     },
     "execution_count": 12,
     "metadata": {},
     "output_type": "execute_result"
    }
   ],
   "source": [
    "# 라벨값에 대한 one-hot 인코딩 수행\n",
    "y_train = to_categorical(y_train)\n",
    "one_hot_vec_size = y_train.shape[1]\n",
    "one_hot_vec_size"
   ]
  },
  {
   "cell_type": "code",
   "execution_count": 13,
   "metadata": {},
   "outputs": [],
   "source": [
    "# 손실 이력 클래스 정의\n",
    "class LossHistory(Callback):\n",
    "    def init(self):\n",
    "        self.losses = []\n",
    "        \n",
    "    def on_epoch_end(self, batch, logs={}):\n",
    "        self.losses.append(logs.get('loss'))"
   ]
  },
  {
   "cell_type": "code",
   "execution_count": 14,
   "metadata": {},
   "outputs": [
    {
     "name": "stdout",
     "output_type": "stream",
     "text": [
      "Model: \"sequential\"\n",
      "_________________________________________________________________\n",
      "Layer (type)                 Output Shape              Param #   \n",
      "=================================================================\n",
      "lstm (LSTM)                  (1, 128)                  66560     \n",
      "_________________________________________________________________\n",
      "dense (Dense)                (1, 12)                   1548      \n",
      "=================================================================\n",
      "Total params: 68,108\n",
      "Trainable params: 68,108\n",
      "Non-trainable params: 0\n",
      "_________________________________________________________________\n"
     ]
    }
   ],
   "source": [
    "# 모델 구성하기\n",
    "model = Sequential()\n",
    "model.add(LSTM(128, batch_input_shape = (1, 4, 1), stateful=True))\n",
    "model.add(Dense(one_hot_vec_size, activation='softmax'))\n",
    "model.summary()"
   ]
  },
  {
   "cell_type": "code",
   "execution_count": 15,
   "metadata": {},
   "outputs": [],
   "source": [
    "# 모델 학습과정 설정하기\n",
    "model.compile(loss='categorical_crossentropy', optimizer='adam', metrics=['accuracy'])"
   ]
  },
  {
   "cell_type": "code",
   "execution_count": 16,
   "metadata": {
    "scrolled": true
   },
   "outputs": [
    {
     "name": "stdout",
     "output_type": "stream",
     "text": [
      "======================= 0 =======================\n",
      "Train on 50 samples\n",
      "50/50 - 1s - loss: 2.4336 - accuracy: 0.2800\n",
      "Train on 50 samples\n",
      "50/50 - 0s - loss: 2.0403 - accuracy: 0.3400\n",
      "Train on 50 samples\n",
      "50/50 - 0s - loss: 1.9642 - accuracy: 0.3400\n",
      "Train on 50 samples\n",
      "50/50 - 0s - loss: 1.9473 - accuracy: 0.3400\n",
      "Train on 50 samples\n",
      "50/50 - 0s - loss: 1.9373 - accuracy: 0.3400\n",
      "Train on 50 samples\n",
      "50/50 - 0s - loss: 1.9301 - accuracy: 0.3400\n",
      "Train on 50 samples\n",
      "50/50 - 0s - loss: 1.9244 - accuracy: 0.3400\n",
      "Train on 50 samples\n",
      "50/50 - 0s - loss: 1.9198 - accuracy: 0.3400\n",
      "Train on 50 samples\n",
      "50/50 - 0s - loss: 1.9158 - accuracy: 0.3400\n",
      "Train on 50 samples\n",
      "50/50 - 0s - loss: 1.9122 - accuracy: 0.3400\n",
      "Train on 50 samples\n",
      "50/50 - 0s - loss: 1.9089 - accuracy: 0.3400\n",
      "Train on 50 samples\n",
      "50/50 - 0s - loss: 1.9056 - accuracy: 0.3600\n",
      "Train on 50 samples\n",
      "50/50 - 0s - loss: 1.9021 - accuracy: 0.3600\n",
      "Train on 50 samples\n",
      "50/50 - 0s - loss: 1.8983 - accuracy: 0.3600\n",
      "Train on 50 samples\n",
      "50/50 - 0s - loss: 1.8938 - accuracy: 0.3600\n",
      "Train on 50 samples\n",
      "50/50 - 0s - loss: 1.8920 - accuracy: 0.3600\n",
      "Train on 50 samples\n",
      "50/50 - 0s - loss: 1.8806 - accuracy: 0.3600\n",
      "Train on 50 samples\n",
      "50/50 - 0s - loss: 2.1246 - accuracy: 0.3200\n",
      "Train on 50 samples\n",
      "50/50 - 0s - loss: 1.9064 - accuracy: 0.3400\n",
      "Train on 50 samples\n",
      "50/50 - 0s - loss: 1.8978 - accuracy: 0.3600\n",
      "Train on 50 samples\n",
      "50/50 - 0s - loss: 1.8925 - accuracy: 0.3600\n",
      "Train on 50 samples\n",
      "50/50 - 0s - loss: 1.8875 - accuracy: 0.3600\n",
      "Train on 50 samples\n",
      "50/50 - 0s - loss: 1.8820 - accuracy: 0.3600\n",
      "Train on 50 samples\n",
      "50/50 - 0s - loss: 1.8774 - accuracy: 0.3600\n",
      "Train on 50 samples\n",
      "50/50 - 0s - loss: 1.8716 - accuracy: 0.3600\n",
      "Train on 50 samples\n",
      "50/50 - 0s - loss: 1.8692 - accuracy: 0.3800\n",
      "Train on 50 samples\n",
      "50/50 - 0s - loss: 1.8588 - accuracy: 0.3800\n",
      "Train on 50 samples\n",
      "50/50 - 0s - loss: 1.8689 - accuracy: 0.3600\n",
      "Train on 50 samples\n",
      "50/50 - 0s - loss: 1.8577 - accuracy: 0.3600\n",
      "Train on 50 samples\n",
      "50/50 - 0s - loss: 1.8635 - accuracy: 0.3600\n",
      "Train on 50 samples\n",
      "50/50 - 0s - loss: 1.8645 - accuracy: 0.3600\n",
      "Train on 50 samples\n",
      "50/50 - 0s - loss: 1.8348 - accuracy: 0.3800\n",
      "Train on 50 samples\n",
      "50/50 - 0s - loss: 1.8125 - accuracy: 0.3600\n",
      "Train on 50 samples\n",
      "50/50 - 0s - loss: 1.8027 - accuracy: 0.4000\n",
      "Train on 50 samples\n",
      "50/50 - 0s - loss: 1.8549 - accuracy: 0.3600\n",
      "Train on 50 samples\n",
      "50/50 - 0s - loss: 1.7843 - accuracy: 0.3600\n",
      "Train on 50 samples\n",
      "50/50 - 0s - loss: 1.7573 - accuracy: 0.3400\n",
      "Train on 50 samples\n",
      "50/50 - 0s - loss: 1.8295 - accuracy: 0.3200\n",
      "Train on 50 samples\n",
      "50/50 - 0s - loss: 1.8232 - accuracy: 0.3600\n",
      "Train on 50 samples\n",
      "50/50 - 0s - loss: 1.7556 - accuracy: 0.3600\n",
      "Train on 50 samples\n",
      "50/50 - 0s - loss: 1.7540 - accuracy: 0.3400\n",
      "Train on 50 samples\n",
      "50/50 - 0s - loss: 1.7609 - accuracy: 0.3400\n",
      "Train on 50 samples\n",
      "50/50 - 0s - loss: 1.8073 - accuracy: 0.3400\n",
      "Train on 50 samples\n",
      "50/50 - 0s - loss: 1.8520 - accuracy: 0.3400\n",
      "Train on 50 samples\n",
      "50/50 - 0s - loss: 1.8206 - accuracy: 0.3600\n",
      "Train on 50 samples\n",
      "50/50 - 0s - loss: 1.7684 - accuracy: 0.3800\n",
      "Train on 50 samples\n",
      "50/50 - 0s - loss: 1.7384 - accuracy: 0.4000\n",
      "Train on 50 samples\n",
      "50/50 - 0s - loss: 1.7199 - accuracy: 0.4200\n",
      "Train on 50 samples\n",
      "50/50 - 0s - loss: 1.7010 - accuracy: 0.4200\n",
      "Train on 50 samples\n",
      "50/50 - 0s - loss: 1.6776 - accuracy: 0.4200\n",
      "======================= 50 =======================\n",
      "Train on 50 samples\n",
      "50/50 - 0s - loss: 1.6564 - accuracy: 0.4200\n",
      "Train on 50 samples\n",
      "50/50 - 0s - loss: 1.6445 - accuracy: 0.4200\n",
      "Train on 50 samples\n",
      "50/50 - 0s - loss: 1.7389 - accuracy: 0.3800\n",
      "Train on 50 samples\n",
      "50/50 - 0s - loss: 1.6807 - accuracy: 0.4200\n",
      "Train on 50 samples\n",
      "50/50 - 0s - loss: 1.6833 - accuracy: 0.3800\n",
      "Train on 50 samples\n",
      "50/50 - 0s - loss: 1.7815 - accuracy: 0.3400\n",
      "Train on 50 samples\n",
      "50/50 - 0s - loss: 2.9218 - accuracy: 0.3000\n",
      "Train on 50 samples\n",
      "50/50 - 0s - loss: 1.9973 - accuracy: 0.3600\n",
      "Train on 50 samples\n",
      "50/50 - 0s - loss: 1.9430 - accuracy: 0.3600\n",
      "Train on 50 samples\n",
      "50/50 - 0s - loss: 1.9265 - accuracy: 0.3600\n",
      "Train on 50 samples\n",
      "50/50 - 0s - loss: 1.9029 - accuracy: 0.3600\n",
      "Train on 50 samples\n",
      "50/50 - 0s - loss: 1.8879 - accuracy: 0.3600\n",
      "Train on 50 samples\n",
      "50/50 - 0s - loss: 1.8743 - accuracy: 0.3600\n",
      "Train on 50 samples\n",
      "50/50 - 0s - loss: 1.8603 - accuracy: 0.3600\n",
      "Train on 50 samples\n",
      "50/50 - 0s - loss: 1.8430 - accuracy: 0.3600\n",
      "Train on 50 samples\n",
      "50/50 - 0s - loss: 1.8607 - accuracy: 0.3600\n",
      "Train on 50 samples\n",
      "50/50 - 0s - loss: 1.8093 - accuracy: 0.3600\n",
      "Train on 50 samples\n",
      "50/50 - 0s - loss: 1.7813 - accuracy: 0.3600\n",
      "Train on 50 samples\n",
      "50/50 - 0s - loss: 1.7563 - accuracy: 0.3800\n",
      "Train on 50 samples\n",
      "50/50 - 0s - loss: 1.7301 - accuracy: 0.3800\n",
      "Train on 50 samples\n",
      "50/50 - 0s - loss: 1.7021 - accuracy: 0.4000\n",
      "Train on 50 samples\n",
      "50/50 - 0s - loss: 1.6722 - accuracy: 0.3800\n",
      "Train on 50 samples\n",
      "50/50 - 0s - loss: 1.6426 - accuracy: 0.4200\n",
      "Train on 50 samples\n",
      "50/50 - 0s - loss: 1.5886 - accuracy: 0.4200\n",
      "Train on 50 samples\n",
      "50/50 - 0s - loss: 1.5416 - accuracy: 0.5000\n",
      "Train on 50 samples\n",
      "50/50 - 0s - loss: 1.4824 - accuracy: 0.4600\n",
      "Train on 50 samples\n",
      "50/50 - 0s - loss: 1.4205 - accuracy: 0.4600\n",
      "Train on 50 samples\n",
      "50/50 - 0s - loss: 1.4744 - accuracy: 0.3800\n",
      "Train on 50 samples\n",
      "50/50 - 0s - loss: 1.4597 - accuracy: 0.4000\n",
      "Train on 50 samples\n",
      "50/50 - 0s - loss: 1.4859 - accuracy: 0.4400\n",
      "Train on 50 samples\n",
      "50/50 - 0s - loss: 1.4778 - accuracy: 0.4600\n",
      "Train on 50 samples\n",
      "50/50 - 0s - loss: 1.3523 - accuracy: 0.5400\n",
      "Train on 50 samples\n",
      "50/50 - 0s - loss: 1.3009 - accuracy: 0.5400\n",
      "Train on 50 samples\n",
      "50/50 - 0s - loss: 1.2539 - accuracy: 0.6000\n",
      "Train on 50 samples\n",
      "50/50 - 0s - loss: 1.4191 - accuracy: 0.4800\n",
      "Train on 50 samples\n",
      "50/50 - 0s - loss: 1.5040 - accuracy: 0.4800\n",
      "Train on 50 samples\n",
      "50/50 - 0s - loss: 1.5602 - accuracy: 0.4200\n",
      "Train on 50 samples\n",
      "50/50 - 0s - loss: 1.3765 - accuracy: 0.5000\n",
      "Train on 50 samples\n",
      "50/50 - 0s - loss: 1.2800 - accuracy: 0.5600\n",
      "Train on 50 samples\n",
      "50/50 - 0s - loss: 1.2526 - accuracy: 0.5400\n",
      "Train on 50 samples\n",
      "50/50 - 0s - loss: 1.2820 - accuracy: 0.4400\n",
      "Train on 50 samples\n",
      "50/50 - 0s - loss: 1.2009 - accuracy: 0.5400\n",
      "Train on 50 samples\n",
      "50/50 - 0s - loss: 1.2449 - accuracy: 0.5000\n",
      "Train on 50 samples\n",
      "50/50 - 0s - loss: 1.2281 - accuracy: 0.5000\n",
      "Train on 50 samples\n",
      "50/50 - 0s - loss: 1.1651 - accuracy: 0.5600\n",
      "Train on 50 samples\n",
      "50/50 - 0s - loss: 1.1034 - accuracy: 0.6000\n",
      "Train on 50 samples\n",
      "50/50 - 0s - loss: 1.2456 - accuracy: 0.4400\n",
      "Train on 50 samples\n",
      "50/50 - 0s - loss: 1.3314 - accuracy: 0.4800\n",
      "Train on 50 samples\n",
      "50/50 - 0s - loss: 1.2099 - accuracy: 0.5200\n",
      "Train on 50 samples\n",
      "50/50 - 0s - loss: 1.1996 - accuracy: 0.6000\n",
      "======================= 100 =======================\n",
      "Train on 50 samples\n",
      "50/50 - 0s - loss: 1.1082 - accuracy: 0.6600\n",
      "Train on 50 samples\n",
      "50/50 - 0s - loss: 1.1891 - accuracy: 0.5800\n",
      "Train on 50 samples\n",
      "50/50 - 0s - loss: 1.2253 - accuracy: 0.5200\n",
      "Train on 50 samples\n",
      "50/50 - 0s - loss: 1.2634 - accuracy: 0.5000\n",
      "Train on 50 samples\n",
      "50/50 - 0s - loss: 1.1550 - accuracy: 0.5600\n",
      "Train on 50 samples\n",
      "50/50 - 0s - loss: 1.1373 - accuracy: 0.5600\n",
      "Train on 50 samples\n",
      "50/50 - 0s - loss: 1.1749 - accuracy: 0.5600\n",
      "Train on 50 samples\n",
      "50/50 - 0s - loss: 1.1235 - accuracy: 0.5400\n",
      "Train on 50 samples\n",
      "50/50 - 0s - loss: 0.9940 - accuracy: 0.6400\n",
      "Train on 50 samples\n",
      "50/50 - 0s - loss: 1.0036 - accuracy: 0.5600\n",
      "Train on 50 samples\n",
      "50/50 - 0s - loss: 1.2230 - accuracy: 0.5000\n",
      "Train on 50 samples\n",
      "50/50 - 0s - loss: 0.9450 - accuracy: 0.5800\n",
      "Train on 50 samples\n",
      "50/50 - 0s - loss: 0.8931 - accuracy: 0.6600\n",
      "Train on 50 samples\n",
      "50/50 - 0s - loss: 1.5108 - accuracy: 0.4800\n",
      "Train on 50 samples\n",
      "50/50 - 0s - loss: 1.7160 - accuracy: 0.4200\n",
      "Train on 50 samples\n",
      "50/50 - 0s - loss: 1.2831 - accuracy: 0.4600\n",
      "Train on 50 samples\n",
      "50/50 - 0s - loss: 1.0815 - accuracy: 0.5800\n",
      "Train on 50 samples\n",
      "50/50 - 0s - loss: 1.0581 - accuracy: 0.6000\n",
      "Train on 50 samples\n",
      "50/50 - 0s - loss: 1.0752 - accuracy: 0.5800\n",
      "Train on 50 samples\n",
      "50/50 - 0s - loss: 0.8988 - accuracy: 0.6800\n",
      "Train on 50 samples\n",
      "50/50 - 0s - loss: 0.7643 - accuracy: 0.7200\n",
      "Train on 50 samples\n",
      "50/50 - 0s - loss: 1.2869 - accuracy: 0.5400\n",
      "Train on 50 samples\n",
      "50/50 - 0s - loss: 1.2550 - accuracy: 0.4600\n",
      "Train on 50 samples\n",
      "50/50 - 0s - loss: 1.2168 - accuracy: 0.5600\n"
     ]
    },
    {
     "name": "stdout",
     "output_type": "stream",
     "text": [
      "Train on 50 samples\n",
      "50/50 - 0s - loss: 0.9643 - accuracy: 0.6000\n",
      "Train on 50 samples\n",
      "50/50 - 0s - loss: 0.8840 - accuracy: 0.6200\n",
      "Train on 50 samples\n",
      "50/50 - 0s - loss: 0.7621 - accuracy: 0.7600\n",
      "Train on 50 samples\n",
      "50/50 - 0s - loss: 0.7826 - accuracy: 0.7400\n",
      "Train on 50 samples\n",
      "50/50 - 0s - loss: 1.0026 - accuracy: 0.6400\n",
      "Train on 50 samples\n",
      "50/50 - 0s - loss: 0.7553 - accuracy: 0.7000\n",
      "Train on 50 samples\n",
      "50/50 - 0s - loss: 0.8830 - accuracy: 0.6200\n",
      "Train on 50 samples\n",
      "50/50 - 0s - loss: 0.6743 - accuracy: 0.7600\n",
      "Train on 50 samples\n",
      "50/50 - 0s - loss: 0.5435 - accuracy: 0.8400\n",
      "Train on 50 samples\n",
      "50/50 - 0s - loss: 0.7227 - accuracy: 0.7400\n",
      "Train on 50 samples\n",
      "50/50 - 0s - loss: 0.6817 - accuracy: 0.6800\n",
      "Train on 50 samples\n",
      "50/50 - 0s - loss: 0.5589 - accuracy: 0.8400\n",
      "Train on 50 samples\n",
      "50/50 - 0s - loss: 0.7192 - accuracy: 0.7600\n",
      "Train on 50 samples\n",
      "50/50 - 0s - loss: 1.0307 - accuracy: 0.5800\n",
      "Train on 50 samples\n",
      "50/50 - 0s - loss: 0.7316 - accuracy: 0.8000\n",
      "Train on 50 samples\n",
      "50/50 - 0s - loss: 0.7404 - accuracy: 0.7800\n",
      "Train on 50 samples\n",
      "50/50 - 0s - loss: 0.6514 - accuracy: 0.8200\n",
      "Train on 50 samples\n",
      "50/50 - 0s - loss: 0.8320 - accuracy: 0.6600\n",
      "Train on 50 samples\n",
      "50/50 - 0s - loss: 1.3445 - accuracy: 0.5200\n",
      "Train on 50 samples\n",
      "50/50 - 0s - loss: 0.7440 - accuracy: 0.6800\n",
      "Train on 50 samples\n",
      "50/50 - 0s - loss: 0.9952 - accuracy: 0.6000\n",
      "Train on 50 samples\n",
      "50/50 - 0s - loss: 0.9437 - accuracy: 0.5800\n",
      "Train on 50 samples\n",
      "50/50 - 0s - loss: 1.0913 - accuracy: 0.5600\n",
      "Train on 50 samples\n",
      "50/50 - 0s - loss: 1.2074 - accuracy: 0.5600\n",
      "Train on 50 samples\n",
      "50/50 - 0s - loss: 0.8128 - accuracy: 0.7000\n",
      "Train on 50 samples\n",
      "50/50 - 0s - loss: 0.6026 - accuracy: 0.8200\n",
      "======================= 150 =======================\n",
      "Train on 50 samples\n",
      "50/50 - 0s - loss: 0.5261 - accuracy: 0.8000\n",
      "Train on 50 samples\n",
      "50/50 - 0s - loss: 0.6765 - accuracy: 0.7600\n",
      "Train on 50 samples\n",
      "50/50 - 0s - loss: 0.4286 - accuracy: 0.8200\n",
      "Train on 50 samples\n",
      "50/50 - 0s - loss: 0.3857 - accuracy: 0.9200\n",
      "Train on 50 samples\n",
      "50/50 - 0s - loss: 0.3666 - accuracy: 0.9000\n",
      "Train on 50 samples\n",
      "50/50 - 0s - loss: 0.4272 - accuracy: 0.8200\n",
      "Train on 50 samples\n",
      "50/50 - 0s - loss: 0.5336 - accuracy: 0.8200\n",
      "Train on 50 samples\n",
      "50/50 - 0s - loss: 0.8911 - accuracy: 0.6800\n",
      "Train on 50 samples\n",
      "50/50 - 0s - loss: 1.0493 - accuracy: 0.5800\n",
      "Train on 50 samples\n",
      "50/50 - 0s - loss: 0.9906 - accuracy: 0.6600\n",
      "Train on 50 samples\n",
      "50/50 - 0s - loss: 0.7276 - accuracy: 0.7200\n",
      "Train on 50 samples\n",
      "50/50 - 0s - loss: 0.8360 - accuracy: 0.7400\n",
      "Train on 50 samples\n",
      "50/50 - 0s - loss: 0.8338 - accuracy: 0.6400\n",
      "Train on 50 samples\n",
      "50/50 - 0s - loss: 0.6029 - accuracy: 0.7600\n",
      "Train on 50 samples\n",
      "50/50 - 0s - loss: 0.3651 - accuracy: 0.9000\n",
      "Train on 50 samples\n",
      "50/50 - 0s - loss: 0.6494 - accuracy: 0.7200\n",
      "Train on 50 samples\n",
      "50/50 - 0s - loss: 0.6960 - accuracy: 0.7800\n",
      "Train on 50 samples\n",
      "50/50 - 0s - loss: 0.6822 - accuracy: 0.6800\n",
      "Train on 50 samples\n",
      "50/50 - 0s - loss: 0.5401 - accuracy: 0.8000\n",
      "Train on 50 samples\n",
      "50/50 - 0s - loss: 2.6664 - accuracy: 0.2600\n",
      "Train on 50 samples\n",
      "50/50 - 0s - loss: 1.3931 - accuracy: 0.4800\n",
      "Train on 50 samples\n",
      "50/50 - 0s - loss: 1.0769 - accuracy: 0.5600\n",
      "Train on 50 samples\n",
      "50/50 - 0s - loss: 0.8986 - accuracy: 0.6200\n",
      "Train on 50 samples\n",
      "50/50 - 0s - loss: 0.5428 - accuracy: 0.8400\n",
      "Train on 50 samples\n",
      "50/50 - 0s - loss: 0.3767 - accuracy: 0.9600\n",
      "Train on 50 samples\n",
      "50/50 - 0s - loss: 0.2779 - accuracy: 0.9800\n",
      "Train on 50 samples\n",
      "50/50 - 0s - loss: 0.2300 - accuracy: 0.9800\n",
      "Train on 50 samples\n",
      "50/50 - 0s - loss: 0.1838 - accuracy: 1.0000\n",
      "Train on 50 samples\n",
      "50/50 - 0s - loss: 0.1527 - accuracy: 1.0000\n",
      "Train on 50 samples\n",
      "50/50 - 0s - loss: 0.1204 - accuracy: 1.0000\n",
      "Train on 50 samples\n",
      "50/50 - 0s - loss: 0.0976 - accuracy: 1.0000\n",
      "Train on 50 samples\n",
      "50/50 - 0s - loss: 0.0934 - accuracy: 1.0000\n",
      "Train on 50 samples\n",
      "50/50 - 0s - loss: 0.1163 - accuracy: 0.9800\n",
      "Train on 50 samples\n",
      "50/50 - 0s - loss: 0.8055 - accuracy: 0.7600\n",
      "Train on 50 samples\n",
      "50/50 - 0s - loss: 1.3574 - accuracy: 0.4800\n",
      "Train on 50 samples\n",
      "50/50 - 0s - loss: 1.4876 - accuracy: 0.5200\n",
      "Train on 50 samples\n",
      "50/50 - 0s - loss: 0.7722 - accuracy: 0.7000\n",
      "Train on 50 samples\n",
      "50/50 - 0s - loss: 0.6794 - accuracy: 0.7800\n",
      "Train on 50 samples\n",
      "50/50 - 0s - loss: 0.3488 - accuracy: 0.9200\n",
      "Train on 50 samples\n",
      "50/50 - 0s - loss: 0.1973 - accuracy: 1.0000\n",
      "Train on 50 samples\n",
      "50/50 - 0s - loss: 0.2399 - accuracy: 0.9400\n",
      "Train on 50 samples\n",
      "50/50 - 0s - loss: 0.2066 - accuracy: 0.9200\n",
      "Train on 50 samples\n",
      "50/50 - 0s - loss: 0.1750 - accuracy: 0.9600\n",
      "Train on 50 samples\n",
      "50/50 - 0s - loss: 0.2649 - accuracy: 0.9400\n",
      "Train on 50 samples\n",
      "50/50 - 0s - loss: 0.3581 - accuracy: 0.8600\n",
      "Train on 50 samples\n",
      "50/50 - 0s - loss: 0.2498 - accuracy: 0.9200\n",
      "Train on 50 samples\n",
      "50/50 - 0s - loss: 0.1266 - accuracy: 0.9600\n",
      "Train on 50 samples\n",
      "50/50 - 0s - loss: 0.0792 - accuracy: 1.0000\n",
      "Train on 50 samples\n",
      "50/50 - 0s - loss: 0.0538 - accuracy: 1.0000\n",
      "Train on 50 samples\n",
      "50/50 - 0s - loss: 0.0401 - accuracy: 1.0000\n",
      "======================= 200 =======================\n",
      "Train on 50 samples\n",
      "50/50 - 0s - loss: 0.0339 - accuracy: 1.0000\n"
     ]
    }
   ],
   "source": [
    "# 모델 학습시키기\n",
    "num_epochs = 201\n",
    "history = LossHistory()\n",
    "history.init()\n",
    "\n",
    "for epoch_idx in range(num_epochs):\n",
    "    if epoch_idx % 50 == 0:\n",
    "        print(\"======================= \" + str(epoch_idx) + \" =======================\")\n",
    "    model.fit(x_train, y_train, epochs=1, batch_size=1, verbose=2, shuffle=False,\n",
    "              callbacks=[history]) # 50 is X.shape[0]\n",
    "    model.reset_states()"
   ]
  },
  {
   "cell_type": "code",
   "execution_count": 17,
   "metadata": {},
   "outputs": [
    {
     "data": {
      "image/png": "[encoded data removed]",
      "text/plain": [
       "<Figure size 432x288 with 1 Axes>"
      ]
     },
     "metadata": {
      "needs_background": "light"
     },
     "output_type": "display_data"
    }
   ],
   "source": [
    "\n",
    "# 학습과정 살펴보기\n",
    "%matplotlib inline\n",
    "import matplotlib.pyplot as plt\n",
    "\n",
    "plt.plot(history.losses)\n",
    "plt.ylabel('loss')\n",
    "plt.xlabel('epoch')\n",
    "plt.legend(['train'], loc='upper left')\n",
    "plt.show()"
   ]
  },
  {
   "cell_type": "code",
   "execution_count": 18,
   "metadata": {},
   "outputs": [
    {
     "name": "stdout",
     "output_type": "stream",
     "text": [
      "50/50 [==============================] - 0s 7ms/sample - loss: 0.0304 - accuracy: 1.0000\n",
      "accuracy: 100.00%\n"
     ]
    }
   ],
   "source": [
    "# 모델 평가하기\n",
    "scores = model.evaluate(x_train, y_train, batch_size=1)\n",
    "print(\"%s: %.2f%%\" %(model.metrics_names[1], scores[1]*100))\n",
    "model.reset_states()"
   ]
  },
  {
   "cell_type": "code",
   "execution_count": 19,
   "metadata": {},
   "outputs": [],
   "source": [
    "# 모델 사용하기\n",
    "pred_count = 50   # 최대 예측 개수 정의"
   ]
  },
  {
   "cell_type": "code",
   "execution_count": 20,
   "metadata": {},
   "outputs": [
    {
     "name": "stdout",
     "output_type": "stream",
     "text": [
      "one step prediction :  ['g8', 'e8', 'e4', 'f8', 'd8', 'd4', 'c8', 'd8', 'e8', 'f8', 'g8', 'g8', 'g4', 'g8', 'e8', 'e8', 'e8', 'f8', 'd8', 'd4', 'c8', 'e8', 'g8', 'g8', 'e8', 'e8', 'e4', 'd8', 'd8', 'd8', 'd8', 'd8', 'e8', 'f4', 'e8', 'e8', 'e8', 'e8', 'e8', 'f8', 'g4', 'g8', 'e8', 'e4', 'f8', 'd8', 'd4', 'c8', 'e8', 'g8', 'g8', 'e8', 'e8', 'e4']\n"
     ]
    }
   ],
   "source": [
    "# 한 스텝 예측\n",
    "seq_out = ['g8', 'e8', 'e4', 'f8']\n",
    "pred_out = model.predict(x_train, batch_size=1)\n",
    "\n",
    "for i in range(pred_count):\n",
    "    idx = np.argmax(pred_out[i]) # one-hot 인코딩을 인덱스 값으로 변환\n",
    "    seq_out.append(idx2code[idx]) # seq_out는 최종 악보이므로 인덱스 값을 코드로 변환하여 저장\n",
    "model.reset_states()\n",
    "\n",
    "print(\"one step prediction : \", seq_out)"
   ]
  },
  {
   "cell_type": "code",
   "execution_count": 21,
   "metadata": {},
   "outputs": [
    {
     "name": "stdout",
     "output_type": "stream",
     "text": [
      "full song prediction :  ['g8', 'e8', 'e4', 'f8', 'd8', 'd4', 'c8', 'd8', 'e8', 'f8', 'g8', 'g8', 'g4', 'g8', 'e8', 'e8', 'e8', 'f8', 'd8', 'd4', 'c8', 'e8', 'g8', 'g8', 'e8', 'e8', 'e4', 'd8', 'd8', 'd8', 'd8', 'd8', 'e8', 'f4', 'e8', 'e8', 'e8', 'e8', 'e8', 'f8', 'g4', 'g8', 'e8', 'e4', 'f8', 'd8', 'd4', 'c8', 'e8', 'g8', 'g8', 'e8', 'e8', 'e4']\n"
     ]
    }
   ],
   "source": [
    "# 곡 전체 예측\n",
    "seq_in = ['g8', 'e8', 'e4', 'f8']\n",
    "seq_out = seq_in\n",
    "seq_in = [code2idx[it] / float(MAX_IDX_VALUE) for it in seq_in] # 코드를 인덱스값으로 변환\n",
    "\n",
    "for i in range(pred_count):\n",
    "    sample_in = np.array(seq_in)\n",
    "    sample_in = np.reshape(sample_in, (1, 4, 1)) # 샘플 수, 타입스텝 수, 속성 수\n",
    "    pred_out = model.predict(sample_in)\n",
    "    idx = np.argmax(pred_out)\n",
    "    seq_out.append(idx2code[idx])\n",
    "    seq_in.append(idx / float(MAX_IDX_VALUE))\n",
    "    seq_in.pop(0)\n",
    "model.reset_states()\n",
    "    \n",
    "print(\"full song prediction : \", seq_out)"
   ]
  },
  {
   "cell_type": "markdown",
   "metadata": {},
   "source": [
    "- https://tykimos.github.io/warehouse/2017-4-9-Stateful_LSTM_f1_full_song_prediction.mp3"
   ]
  },
  {
   "cell_type": "code",
   "execution_count": null,
   "metadata": {},
   "outputs": [],
   "source": []
  }
 ],
 "metadata": {
  "kernelspec": {
   "display_name": "Python 3",
   "language": "python",
   "name": "python3"
  },
  "language_info": {
   "codemirror_mode": {
    "name": "ipython",
    "version": 3
   },
   "file_extension": ".py",
   "mimetype": "text/x-python",
   "name": "python",
   "nbconvert_exporter": "python",
   "pygments_lexer": "ipython3",
   "version": "3.7.7"
  }
 },
 "nbformat": 4,
 "nbformat_minor": 4
}
