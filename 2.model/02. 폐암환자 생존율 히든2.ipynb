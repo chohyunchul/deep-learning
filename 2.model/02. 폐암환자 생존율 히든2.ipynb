{
 "cells": [
  {
   "cell_type": "markdown",
   "metadata": {},
   "source": [
    "# 폐암 수술 환자의 생존율 데이터 분석"
   ]
  },
  {
   "cell_type": "code",
   "execution_count": 2,
   "metadata": {},
   "outputs": [
    {
     "data": {
      "text/plain": [
       "'2.1.0'"
      ]
     },
     "execution_count": 2,
     "metadata": {},
     "output_type": "execute_result"
    }
   ],
   "source": [
    "import numpy as np\n",
    "import tensorflow as tf\n",
    "tf.__version__"
   ]
  },
  {
   "cell_type": "code",
   "execution_count": 3,
   "metadata": {},
   "outputs": [],
   "source": [
    "from tensorflow.keras.models import Sequential\n",
    "from tensorflow.keras.layers import Dense"
   ]
  },
  {
   "cell_type": "code",
   "execution_count": 4,
   "metadata": {},
   "outputs": [],
   "source": [
    "# 실행할 때마다 같은 결과를 출력하기 위한 seed 값 설정\n",
    "seed = 2020\n",
    "np.random.seed(seed)\n",
    "tf.random.set_seed(seed)"
   ]
  },
  {
   "cell_type": "code",
   "execution_count": 5,
   "metadata": {},
   "outputs": [
    {
     "data": {
      "text/plain": [
       "array([[293.  ,   1.  ,   3.8 , ...,   0.  ,  62.  ,   0.  ],\n",
       "       [  1.  ,   2.  ,   2.88, ...,   0.  ,  60.  ,   0.  ],\n",
       "       [  8.  ,   2.  ,   3.19, ...,   0.  ,  66.  ,   1.  ],\n",
       "       ...,\n",
       "       [406.  ,   6.  ,   5.36, ...,   0.  ,  62.  ,   0.  ],\n",
       "       [ 25.  ,   8.  ,   4.32, ...,   0.  ,  58.  ,   1.  ],\n",
       "       [447.  ,   8.  ,   5.2 , ...,   0.  ,  49.  ,   0.  ]])"
      ]
     },
     "execution_count": 5,
     "metadata": {},
     "output_type": "execute_result"
    }
   ],
   "source": [
    "# 준비된 수술 환자 데이터를 불러들임\n",
    "Data_set = np.loadtxt(\"dataset/1.ThoraricSurgery.csv\", delimiter=\",\")\n",
    "Data_set"
   ]
  },
  {
   "cell_type": "code",
   "execution_count": 6,
   "metadata": {},
   "outputs": [
    {
     "data": {
      "text/plain": [
       "((470, 17), (470,))"
      ]
     },
     "execution_count": 6,
     "metadata": {},
     "output_type": "execute_result"
    }
   ],
   "source": [
    "# 환자의 기록과 수술 결과를 x와 y로 구분하여 저장\n",
    "X = Data_set[:, 0:17]\n",
    "Y = Data_set[:, 17]\n",
    "X.shape, Y.shape"
   ]
  },
  {
   "cell_type": "code",
   "execution_count": 7,
   "metadata": {},
   "outputs": [],
   "source": [
    "from sklearn.model_selection import train_test_split"
   ]
  },
  {
   "cell_type": "code",
   "execution_count": 9,
   "metadata": {},
   "outputs": [],
   "source": [
    "X_train, X_test, Y_train, Y_test, = train_test_split(X, Y, test_size=0.2, random_state=11)"
   ]
  },
  {
   "cell_type": "code",
   "execution_count": 10,
   "metadata": {
    "scrolled": true
   },
   "outputs": [
    {
     "name": "stdout",
     "output_type": "stream",
     "text": [
      "Model: \"sequential\"\n",
      "_________________________________________________________________\n",
      "Layer (type)                 Output Shape              Param #   \n",
      "=================================================================\n",
      "dense (Dense)                (None, 30)                540       \n",
      "_________________________________________________________________\n",
      "dense_1 (Dense)              (None, 16)                496       \n",
      "_________________________________________________________________\n",
      "dense_2 (Dense)              (None, 1)                 17        \n",
      "=================================================================\n",
      "Total params: 1,053\n",
      "Trainable params: 1,053\n",
      "Non-trainable params: 0\n",
      "_________________________________________________________________\n"
     ]
    }
   ],
   "source": [
    "# 딥러닝 모델 설정\n",
    "model = Sequential([\n",
    "    Dense(30, input_shape=(17,), activation='relu'),\n",
    "    Dense(16, activation='relu'),\n",
    "    Dense(1, activation='sigmoid')])\n",
    "model.summary()"
   ]
  },
  {
   "cell_type": "code",
   "execution_count": 11,
   "metadata": {},
   "outputs": [],
   "source": [
    "# 딥러닝 환경 설정 (오차함수, 최적화함수)\n",
    "# metrics : 측정함수\n",
    "model.compile(loss='binary_crossentropy', optimizer='adam', metrics=['accuracy'])"
   ]
  },
  {
   "cell_type": "code",
   "execution_count": 12,
   "metadata": {
    "scrolled": true
   },
   "outputs": [
    {
     "name": "stdout",
     "output_type": "stream",
     "text": [
      "Train on 300 samples, validate on 76 samples\n",
      "Epoch 1/20\n",
      "300/300 [==============================] - 0s 1ms/sample - loss: 1.0068 - accuracy: 0.8067 - val_loss: 0.3276 - val_accuracy: 0.8816\n",
      "Epoch 2/20\n",
      "300/300 [==============================] - 0s 112us/sample - loss: 0.5813 - accuracy: 0.8333 - val_loss: 0.3540 - val_accuracy: 0.8816\n",
      "Epoch 3/20\n",
      "300/300 [==============================] - 0s 109us/sample - loss: 0.5196 - accuracy: 0.8133 - val_loss: 0.3501 - val_accuracy: 0.8816\n",
      "Epoch 4/20\n",
      "300/300 [==============================] - 0s 114us/sample - loss: 0.5101 - accuracy: 0.8100 - val_loss: 0.3654 - val_accuracy: 0.8684\n",
      "Epoch 5/20\n",
      "300/300 [==============================] - 0s 109us/sample - loss: 0.4867 - accuracy: 0.8300 - val_loss: 0.5587 - val_accuracy: 0.6447\n",
      "Epoch 6/20\n",
      "300/300 [==============================] - 0s 109us/sample - loss: 0.4919 - accuracy: 0.8100 - val_loss: 0.3685 - val_accuracy: 0.8684\n",
      "Epoch 7/20\n",
      "300/300 [==============================] - 0s 108us/sample - loss: 0.4764 - accuracy: 0.8367 - val_loss: 0.3597 - val_accuracy: 0.8816\n",
      "Epoch 8/20\n",
      "300/300 [==============================] - 0s 109us/sample - loss: 0.5074 - accuracy: 0.7967 - val_loss: 0.3841 - val_accuracy: 0.8684\n",
      "Epoch 9/20\n",
      "300/300 [==============================] - 0s 111us/sample - loss: 0.5420 - accuracy: 0.8067 - val_loss: 0.4495 - val_accuracy: 0.8553\n",
      "Epoch 10/20\n",
      "300/300 [==============================] - 0s 104us/sample - loss: 0.6652 - accuracy: 0.8200 - val_loss: 0.3955 - val_accuracy: 0.8684\n",
      "Epoch 11/20\n",
      "300/300 [==============================] - 0s 109us/sample - loss: 0.4615 - accuracy: 0.8300 - val_loss: 0.3635 - val_accuracy: 0.8816\n",
      "Epoch 12/20\n",
      "300/300 [==============================] - 0s 109us/sample - loss: 0.4619 - accuracy: 0.8233 - val_loss: 0.3674 - val_accuracy: 0.8684\n",
      "Epoch 13/20\n",
      "300/300 [==============================] - 0s 107us/sample - loss: 0.4822 - accuracy: 0.8267 - val_loss: 0.3765 - val_accuracy: 0.8684\n",
      "Epoch 14/20\n",
      "300/300 [==============================] - 0s 115us/sample - loss: 0.5264 - accuracy: 0.8100 - val_loss: 0.4042 - val_accuracy: 0.8684\n",
      "Epoch 15/20\n",
      "300/300 [==============================] - 0s 114us/sample - loss: 0.4892 - accuracy: 0.8367 - val_loss: 0.3870 - val_accuracy: 0.8684\n",
      "Epoch 16/20\n",
      "300/300 [==============================] - 0s 112us/sample - loss: 0.5261 - accuracy: 0.7833 - val_loss: 0.5053 - val_accuracy: 0.8816\n",
      "Epoch 17/20\n",
      "300/300 [==============================] - 0s 111us/sample - loss: 0.5414 - accuracy: 0.8167 - val_loss: 0.4841 - val_accuracy: 0.8158\n",
      "Epoch 18/20\n",
      "300/300 [==============================] - 0s 110us/sample - loss: 0.4510 - accuracy: 0.8400 - val_loss: 0.3716 - val_accuracy: 0.8816\n",
      "Epoch 19/20\n",
      "300/300 [==============================] - 0s 110us/sample - loss: 0.4723 - accuracy: 0.8300 - val_loss: 0.4039 - val_accuracy: 0.8816\n",
      "Epoch 20/20\n",
      "300/300 [==============================] - 0s 115us/sample - loss: 0.5347 - accuracy: 0.8400 - val_loss: 0.4597 - val_accuracy: 0.8684\n"
     ]
    }
   ],
   "source": [
    "# 딥너링 실행 / validation_split 검증세트 딥러닝은 따로 해줘야 함.\n",
    "history = model.fit(X_train, Y_train, validation_split=0.2,\n",
    "          epochs=20, batch_size=10)"
   ]
  },
  {
   "cell_type": "code",
   "execution_count": 13,
   "metadata": {},
   "outputs": [
    {
     "name": "stdout",
     "output_type": "stream",
     "text": [
      "94/94 - 0s - loss: 0.6227 - accuracy: 0.8511\n"
     ]
    },
    {
     "data": {
      "text/plain": [
       "0.85106385"
      ]
     },
     "execution_count": 13,
     "metadata": {},
     "output_type": "execute_result"
    }
   ],
   "source": [
    "model.evaluate(X_test, Y_test, verbose=2)[1]"
   ]
  },
  {
   "cell_type": "code",
   "execution_count": 14,
   "metadata": {},
   "outputs": [
    {
     "data": {
      "text/html": [
       "<div>\n",
       "<style scoped>\n",
       "    .dataframe tbody tr th:only-of-type {\n",
       "        vertical-align: middle;\n",
       "    }\n",
       "\n",
       "    .dataframe tbody tr th {\n",
       "        vertical-align: top;\n",
       "    }\n",
       "\n",
       "    .dataframe thead th {\n",
       "        text-align: right;\n",
       "    }\n",
       "</style>\n",
       "<table border=\"1\" class=\"dataframe\">\n",
       "  <thead>\n",
       "    <tr style=\"text-align: right;\">\n",
       "      <th></th>\n",
       "      <th>loss</th>\n",
       "      <th>accuracy</th>\n",
       "      <th>val_loss</th>\n",
       "      <th>val_accuracy</th>\n",
       "    </tr>\n",
       "  </thead>\n",
       "  <tbody>\n",
       "    <tr>\n",
       "      <th>0</th>\n",
       "      <td>1.006846</td>\n",
       "      <td>0.806667</td>\n",
       "      <td>0.327622</td>\n",
       "      <td>0.881579</td>\n",
       "    </tr>\n",
       "    <tr>\n",
       "      <th>1</th>\n",
       "      <td>0.581286</td>\n",
       "      <td>0.833333</td>\n",
       "      <td>0.354022</td>\n",
       "      <td>0.881579</td>\n",
       "    </tr>\n",
       "    <tr>\n",
       "      <th>2</th>\n",
       "      <td>0.519598</td>\n",
       "      <td>0.813333</td>\n",
       "      <td>0.350133</td>\n",
       "      <td>0.881579</td>\n",
       "    </tr>\n",
       "    <tr>\n",
       "      <th>3</th>\n",
       "      <td>0.510148</td>\n",
       "      <td>0.810000</td>\n",
       "      <td>0.365445</td>\n",
       "      <td>0.868421</td>\n",
       "    </tr>\n",
       "    <tr>\n",
       "      <th>4</th>\n",
       "      <td>0.486740</td>\n",
       "      <td>0.830000</td>\n",
       "      <td>0.558714</td>\n",
       "      <td>0.644737</td>\n",
       "    </tr>\n",
       "  </tbody>\n",
       "</table>\n",
       "</div>"
      ],
      "text/plain": [
       "       loss  accuracy  val_loss  val_accuracy\n",
       "0  1.006846  0.806667  0.327622      0.881579\n",
       "1  0.581286  0.833333  0.354022      0.881579\n",
       "2  0.519598  0.813333  0.350133      0.881579\n",
       "3  0.510148  0.810000  0.365445      0.868421\n",
       "4  0.486740  0.830000  0.558714      0.644737"
      ]
     },
     "execution_count": 14,
     "metadata": {},
     "output_type": "execute_result"
    }
   ],
   "source": [
    "import pandas as pd\n",
    "df = pd.DataFrame(data=history.history)\n",
    "df.head()"
   ]
  },
  {
   "cell_type": "code",
   "execution_count": 15,
   "metadata": {},
   "outputs": [
    {
     "data": {
      "text/plain": [
       "[0.3276219109171315,\n",
       " 0.3540215346177942,\n",
       " 0.3501329678846033,\n",
       " 0.36544466724521235,\n",
       " 0.5587138078714672,\n",
       " 0.368527440452262,\n",
       " 0.35974397255401863,\n",
       " 0.384135704879698,\n",
       " 0.44946246868685674,\n",
       " 0.39547436409874964,\n",
       " 0.3635364029752581,\n",
       " 0.3673976985247512,\n",
       " 0.3764728292038566,\n",
       " 0.40424875542521477,\n",
       " 0.3869971376108496,\n",
       " 0.5053072157070825,\n",
       " 0.4841315165946358,\n",
       " 0.3716473234327216,\n",
       " 0.40391601308395986,\n",
       " 0.4597288785796416]"
      ]
     },
     "execution_count": 15,
     "metadata": {},
     "output_type": "execute_result"
    }
   ],
   "source": [
    "history.history['accuracy']\n",
    "history.history['val_accuracy']\n",
    "history.history['loss']\n",
    "history.history['val_loss']"
   ]
  }
 ],
 "metadata": {
  "kernelspec": {
   "display_name": "Python 3",
   "language": "python",
   "name": "python3"
  },
  "language_info": {
   "codemirror_mode": {
    "name": "ipython",
    "version": 3
   },
   "file_extension": ".py",
   "mimetype": "text/x-python",
   "name": "python",
   "nbconvert_exporter": "python",
   "pygments_lexer": "ipython3",
   "version": "3.7.7"
  }
 },
 "nbformat": 4,
 "nbformat_minor": 4
}
