{
 "cells": [
  {
   "cell_type": "markdown",
   "metadata": {},
   "source": [
    "# 폐암 수술 환자의 생존율 데이터 분석"
   ]
  },
  {
   "cell_type": "code",
   "execution_count": 1,
   "metadata": {},
   "outputs": [
    {
     "data": {
      "text/plain": [
       "'2.1.0'"
      ]
     },
     "execution_count": 1,
     "metadata": {},
     "output_type": "execute_result"
    }
   ],
   "source": [
    "import numpy as np\n",
    "import tensorflow as tf\n",
    "tf.__version__"
   ]
  },
  {
   "cell_type": "code",
   "execution_count": 2,
   "metadata": {},
   "outputs": [],
   "source": [
    "from tensorflow.keras.models import Sequential\n",
    "from tensorflow.keras.layers import Dense"
   ]
  },
  {
   "cell_type": "code",
   "execution_count": 3,
   "metadata": {},
   "outputs": [],
   "source": [
    "# 실행할 때마다 같은 결과를 출력하기 위한 seed 값 설정\n",
    "seed = 2020\n",
    "np.random.seed(seed)\n",
    "tf.random.set_seed(seed)"
   ]
  },
  {
   "cell_type": "code",
   "execution_count": 4,
   "metadata": {},
   "outputs": [
    {
     "data": {
      "text/plain": [
       "array([[293.  ,   1.  ,   3.8 ,   2.8 ,   0.  ,   0.  ,   0.  ,   0.  ,\n",
       "          0.  ,   0.  ,  12.  ,   0.  ,   0.  ,   0.  ,   1.  ,   0.  ,\n",
       "         62.  ,   0.  ],\n",
       "       [  1.  ,   2.  ,   2.88,   2.16,   1.  ,   0.  ,   0.  ,   0.  ,\n",
       "          1.  ,   1.  ,  14.  ,   0.  ,   0.  ,   0.  ,   1.  ,   0.  ,\n",
       "         60.  ,   0.  ],\n",
       "       [  8.  ,   2.  ,   3.19,   2.5 ,   1.  ,   0.  ,   0.  ,   0.  ,\n",
       "          1.  ,   0.  ,  11.  ,   0.  ,   0.  ,   1.  ,   1.  ,   0.  ,\n",
       "         66.  ,   1.  ]])"
      ]
     },
     "execution_count": 4,
     "metadata": {},
     "output_type": "execute_result"
    }
   ],
   "source": [
    "# 준비된 수술 환자 데이터를 불러들임\n",
    "Data_set = np.loadtxt(\"dataset/1.ThoraricSurgery.csv\", delimiter=\",\")\n",
    "Data_set[:3, :]"
   ]
  },
  {
   "cell_type": "code",
   "execution_count": 5,
   "metadata": {},
   "outputs": [
    {
     "data": {
      "text/plain": [
       "((470, 17), (470,))"
      ]
     },
     "execution_count": 5,
     "metadata": {},
     "output_type": "execute_result"
    }
   ],
   "source": [
    "# 환자의 기록과 수술 결과를 x와 y로 구분하여 저장\n",
    "X = Data_set[:, 0:17]\n",
    "Y = Data_set[:, 17]\n",
    "X.shape, Y.shape"
   ]
  },
  {
   "cell_type": "code",
   "execution_count": 6,
   "metadata": {},
   "outputs": [],
   "source": [
    "from sklearn.model_selection import train_test_split"
   ]
  },
  {
   "cell_type": "code",
   "execution_count": 7,
   "metadata": {},
   "outputs": [],
   "source": [
    "X_train, X_test, y_train, y_test, = train_test_split(X, Y, test_size=0.2, random_state=11)"
   ]
  },
  {
   "cell_type": "code",
   "execution_count": 8,
   "metadata": {
    "scrolled": true
   },
   "outputs": [
    {
     "name": "stdout",
     "output_type": "stream",
     "text": [
      "Model: \"sequential\"\n",
      "_________________________________________________________________\n",
      "Layer (type)                 Output Shape              Param #   \n",
      "=================================================================\n",
      "dense (Dense)                (None, 30)                540       \n",
      "_________________________________________________________________\n",
      "dense_1 (Dense)              (None, 1)                 31        \n",
      "=================================================================\n",
      "Total params: 571\n",
      "Trainable params: 571\n",
      "Non-trainable params: 0\n",
      "_________________________________________________________________\n"
     ]
    }
   ],
   "source": [
    "# 딥러닝 모델 설정\n",
    "model = Sequential([Dense(30, input_shape=(17,), activation='relu'),\n",
    "                   Dense(1, activation='sigmoid')])\n",
    "model.summary()"
   ]
  },
  {
   "cell_type": "code",
   "execution_count": 9,
   "metadata": {},
   "outputs": [],
   "source": [
    "# 딥러닝 환경 설정 (오차함수, 최적화함수)\n",
    "# metrics : 측정함수\n",
    "model.compile(loss='binary_crossentropy', optimizer='adam', metrics=['accuracy'])"
   ]
  },
  {
   "cell_type": "code",
   "execution_count": 10,
   "metadata": {
    "scrolled": true
   },
   "outputs": [
    {
     "name": "stdout",
     "output_type": "stream",
     "text": [
      "Train on 300 samples, validate on 76 samples\n",
      "Epoch 1/20\n",
      "300/300 [==============================] - 0s 1ms/sample - loss: 7.1694 - accuracy: 0.6100 - val_loss: 2.3213 - val_accuracy: 0.8816\n",
      "Epoch 2/20\n",
      "300/300 [==============================] - 0s 110us/sample - loss: 2.9496 - accuracy: 0.8233 - val_loss: 1.5940 - val_accuracy: 0.8816\n",
      "Epoch 3/20\n",
      "300/300 [==============================] - 0s 105us/sample - loss: 1.8323 - accuracy: 0.7633 - val_loss: 1.2469 - val_accuracy: 0.8684\n",
      "Epoch 4/20\n",
      "300/300 [==============================] - 0s 109us/sample - loss: 1.2200 - accuracy: 0.7700 - val_loss: 0.7313 - val_accuracy: 0.8553\n",
      "Epoch 5/20\n",
      "300/300 [==============================] - 0s 112us/sample - loss: 0.7068 - accuracy: 0.7900 - val_loss: 0.5668 - val_accuracy: 0.8421\n",
      "Epoch 6/20\n",
      "300/300 [==============================] - 0s 117us/sample - loss: 0.5903 - accuracy: 0.7867 - val_loss: 0.5064 - val_accuracy: 0.8553\n",
      "Epoch 7/20\n",
      "300/300 [==============================] - 0s 109us/sample - loss: 0.5712 - accuracy: 0.7767 - val_loss: 0.5347 - val_accuracy: 0.8684\n",
      "Epoch 8/20\n",
      "300/300 [==============================] - 0s 115us/sample - loss: 0.5316 - accuracy: 0.8067 - val_loss: 0.4925 - val_accuracy: 0.8421\n",
      "Epoch 9/20\n",
      "300/300 [==============================] - 0s 112us/sample - loss: 0.5204 - accuracy: 0.8067 - val_loss: 0.4832 - val_accuracy: 0.8421\n",
      "Epoch 10/20\n",
      "300/300 [==============================] - 0s 110us/sample - loss: 0.5431 - accuracy: 0.8200 - val_loss: 0.4363 - val_accuracy: 0.8684\n",
      "Epoch 11/20\n",
      "300/300 [==============================] - 0s 110us/sample - loss: 0.4897 - accuracy: 0.8267 - val_loss: 0.4843 - val_accuracy: 0.8289\n",
      "Epoch 12/20\n",
      "300/300 [==============================] - 0s 106us/sample - loss: 0.4874 - accuracy: 0.8067 - val_loss: 0.4391 - val_accuracy: 0.8684\n",
      "Epoch 13/20\n",
      "300/300 [==============================] - 0s 115us/sample - loss: 0.4679 - accuracy: 0.8300 - val_loss: 0.4212 - val_accuracy: 0.8684\n",
      "Epoch 14/20\n",
      "300/300 [==============================] - 0s 110us/sample - loss: 0.5048 - accuracy: 0.8133 - val_loss: 0.4232 - val_accuracy: 0.8684\n",
      "Epoch 15/20\n",
      "300/300 [==============================] - 0s 113us/sample - loss: 0.5242 - accuracy: 0.8167 - val_loss: 0.5017 - val_accuracy: 0.8684\n",
      "Epoch 16/20\n",
      "300/300 [==============================] - 0s 112us/sample - loss: 0.4877 - accuracy: 0.8033 - val_loss: 0.4439 - val_accuracy: 0.8816\n",
      "Epoch 17/20\n",
      "300/300 [==============================] - 0s 113us/sample - loss: 0.5010 - accuracy: 0.8400 - val_loss: 0.4305 - val_accuracy: 0.8553\n",
      "Epoch 18/20\n",
      "300/300 [==============================] - 0s 111us/sample - loss: 0.5034 - accuracy: 0.8367 - val_loss: 0.4483 - val_accuracy: 0.8421\n",
      "Epoch 19/20\n",
      "300/300 [==============================] - 0s 113us/sample - loss: 0.4501 - accuracy: 0.8400 - val_loss: 0.4023 - val_accuracy: 0.8684\n",
      "Epoch 20/20\n",
      "300/300 [==============================] - 0s 115us/sample - loss: 0.4687 - accuracy: 0.8500 - val_loss: 0.4430 - val_accuracy: 0.8553\n"
     ]
    }
   ],
   "source": [
    "# 딥너링 실행 / validation_split 검증세트 딥러닝은 따로 해줘야 함.\n",
    "history = model.fit(X_train, y_train, validation_split=0.2,\n",
    "          epochs=20, batch_size=10)"
   ]
  },
  {
   "cell_type": "code",
   "execution_count": 11,
   "metadata": {},
   "outputs": [
    {
     "name": "stdout",
     "output_type": "stream",
     "text": [
      "94/94 - 0s - loss: 0.5648 - accuracy: 0.8617\n"
     ]
    },
    {
     "data": {
      "text/plain": [
       "0.86170214"
      ]
     },
     "execution_count": 11,
     "metadata": {},
     "output_type": "execute_result"
    }
   ],
   "source": [
    "model.evaluate(X_test, y_test, verbose=2)[1]"
   ]
  },
  {
   "cell_type": "code",
   "execution_count": 12,
   "metadata": {},
   "outputs": [
    {
     "data": {
      "text/html": [
       "<div>\n",
       "<style scoped>\n",
       "    .dataframe tbody tr th:only-of-type {\n",
       "        vertical-align: middle;\n",
       "    }\n",
       "\n",
       "    .dataframe tbody tr th {\n",
       "        vertical-align: top;\n",
       "    }\n",
       "\n",
       "    .dataframe thead th {\n",
       "        text-align: right;\n",
       "    }\n",
       "</style>\n",
       "<table border=\"1\" class=\"dataframe\">\n",
       "  <thead>\n",
       "    <tr style=\"text-align: right;\">\n",
       "      <th></th>\n",
       "      <th>loss</th>\n",
       "      <th>accuracy</th>\n",
       "      <th>val_loss</th>\n",
       "      <th>val_accuracy</th>\n",
       "    </tr>\n",
       "  </thead>\n",
       "  <tbody>\n",
       "    <tr>\n",
       "      <th>0</th>\n",
       "      <td>7.169438</td>\n",
       "      <td>0.610000</td>\n",
       "      <td>2.321334</td>\n",
       "      <td>0.881579</td>\n",
       "    </tr>\n",
       "    <tr>\n",
       "      <th>1</th>\n",
       "      <td>2.949601</td>\n",
       "      <td>0.823333</td>\n",
       "      <td>1.593966</td>\n",
       "      <td>0.881579</td>\n",
       "    </tr>\n",
       "    <tr>\n",
       "      <th>2</th>\n",
       "      <td>1.832321</td>\n",
       "      <td>0.763333</td>\n",
       "      <td>1.246860</td>\n",
       "      <td>0.868421</td>\n",
       "    </tr>\n",
       "    <tr>\n",
       "      <th>3</th>\n",
       "      <td>1.220040</td>\n",
       "      <td>0.770000</td>\n",
       "      <td>0.731260</td>\n",
       "      <td>0.855263</td>\n",
       "    </tr>\n",
       "    <tr>\n",
       "      <th>4</th>\n",
       "      <td>0.706833</td>\n",
       "      <td>0.790000</td>\n",
       "      <td>0.566837</td>\n",
       "      <td>0.842105</td>\n",
       "    </tr>\n",
       "  </tbody>\n",
       "</table>\n",
       "</div>"
      ],
      "text/plain": [
       "       loss  accuracy  val_loss  val_accuracy\n",
       "0  7.169438  0.610000  2.321334      0.881579\n",
       "1  2.949601  0.823333  1.593966      0.881579\n",
       "2  1.832321  0.763333  1.246860      0.868421\n",
       "3  1.220040  0.770000  0.731260      0.855263\n",
       "4  0.706833  0.790000  0.566837      0.842105"
      ]
     },
     "execution_count": 12,
     "metadata": {},
     "output_type": "execute_result"
    }
   ],
   "source": [
    "import pandas as pd\n",
    "df = pd.DataFrame(data=history.history)\n",
    "df.head()"
   ]
  },
  {
   "cell_type": "code",
   "execution_count": 13,
   "metadata": {},
   "outputs": [
    {
     "data": {
      "text/plain": [
       "[2.321334214255598,\n",
       " 1.5939655366731273,\n",
       " 1.2468603149571114,\n",
       " 0.7312602376271236,\n",
       " 0.5668368704224888,\n",
       " 0.5063938494575652,\n",
       " 0.5347029740284932,\n",
       " 0.492531324687757,\n",
       " 0.4831809989715877,\n",
       " 0.4363132515235951,\n",
       " 0.48426160451612976,\n",
       " 0.43909747192734166,\n",
       " 0.42123005872494296,\n",
       " 0.42321538454607915,\n",
       " 0.5016606127549159,\n",
       " 0.4438747653835698,\n",
       " 0.4304567022543204,\n",
       " 0.44827740600234584,\n",
       " 0.4022670470570263,\n",
       " 0.44299724423571635]"
      ]
     },
     "execution_count": 13,
     "metadata": {},
     "output_type": "execute_result"
    }
   ],
   "source": [
    "history.history['accuracy']\n",
    "history.history['val_accuracy']\n",
    "history.history['loss']\n",
    "history.history['val_loss']"
   ]
  },
  {
   "cell_type": "code",
   "execution_count": null,
   "metadata": {},
   "outputs": [],
   "source": []
  }
 ],
 "metadata": {
  "kernelspec": {
   "display_name": "Python 3",
   "language": "python",
   "name": "python3"
  },
  "language_info": {
   "codemirror_mode": {
    "name": "ipython",
    "version": 3
   },
   "file_extension": ".py",
   "mimetype": "text/x-python",
   "name": "python",
   "nbconvert_exporter": "python",
   "pygments_lexer": "ipython3",
   "version": "3.7.7"
  }
 },
 "nbformat": 4,
 "nbformat_minor": 4
}
